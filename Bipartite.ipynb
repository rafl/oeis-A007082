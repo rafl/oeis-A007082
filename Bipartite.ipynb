{
 "cells": [
  {
   "cell_type": "markdown",
   "id": "8c29ab99-a0f1-42fa-8a40-e4a7a34a658c",
   "metadata": {},
   "source": [
    "# This stuff is the by the book implementation"
   ]
  },
  {
   "cell_type": "code",
   "execution_count": 2,
   "id": "44c7ee59-5dc6-41f4-b085-224ec8e851ce",
   "metadata": {},
   "outputs": [],
   "source": [
    "import numpy as np\n",
    "import itertools\n",
    "import math"
   ]
  },
  {
   "cell_type": "code",
   "execution_count": 3,
   "id": "445f6003-36ff-429c-bcdd-0f87a384902f",
   "metadata": {},
   "outputs": [],
   "source": [
    "np.set_printoptions(linewidth=200)"
   ]
  },
  {
   "cell_type": "code",
   "execution_count": 4,
   "id": "3f9caa3e-88db-4148-bdbb-6de47e86b6a0",
   "metadata": {},
   "outputs": [],
   "source": [
    "def choose_ab(a, b):\n",
    "    return a / b"
   ]
  },
  {
   "cell_type": "code",
   "execution_count": 5,
   "id": "79f8f888-8927-48bd-8879-68cbbbaac54d",
   "metadata": {},
   "outputs": [],
   "source": [
    "def choose_both(a, b):\n",
    "    return choose_ab(a, b) + choose_ab(b, a)"
   ]
  },
  {
   "cell_type": "code",
   "execution_count": 6,
   "id": "ce1d57cb-afa7-49e0-9ef8-7cdbb9202166",
   "metadata": {},
   "outputs": [],
   "source": [
    "def f_first(vals1, vals2):\n",
    "    prod = np.complex128(1)\n",
    "    for a in vals1:\n",
    "        for b in vals2:\n",
    "            prod *= choose_both(a, b)\n",
    "\n",
    "    return prod"
   ]
  },
  {
   "cell_type": "code",
   "execution_count": 7,
   "id": "0f15aa2c-6d0e-4f21-abdb-203cfc883377",
   "metadata": {},
   "outputs": [],
   "source": [
    "def f_second(vals1, vals2):\n",
    "    n1 = len(vals1)\n",
    "    nboth = n1 + len(vals2)\n",
    "    A = np.zeros([nboth, nboth], dtype=np.complex128)\n",
    "    for j, a in enumerate(vals1):\n",
    "        for (k, b) in enumerate(vals2):\n",
    "            A[j,k+n1] = -1 * choose_ab(a, b) / choose_both(a, b)\n",
    "            A[k+n1,j] = -1 * choose_ab(b, a) / choose_both(a, b)\n",
    "\n",
    "    for i in range(nboth):\n",
    "        # check if this is row or col sum\n",
    "        A[i, i] = -1 * A[i, :].sum()\n",
    "\n",
    "    return np.linalg.det(A[:-1, :-1])"
   ]
  },
  {
   "cell_type": "code",
   "execution_count": 8,
   "id": "ad052f8f-e72a-48d6-b8a6-7ffdce3b3ad5",
   "metadata": {},
   "outputs": [],
   "source": [
    "def combs_with_multiplicity_recip(vals, n):\n",
    "    if n == 0:\n",
    "        yield (1, [])\n",
    "    elif len(vals) == 1:\n",
    "        yield (math.factorial(n), [vals[0]] * n)\n",
    "    else:\n",
    "        for i in range(0, n+1):\n",
    "            for (rest_recip, rest_vals) in combs_with_multiplicity_recip(vals[1:], n-i):\n",
    "                yield (rest_recip * math.factorial(i), [vals[0]] * i + rest_vals)"
   ]
  },
  {
   "cell_type": "code",
   "execution_count": 9,
   "id": "3a09a453-d8c6-41bb-b8c6-13f660dfc954",
   "metadata": {},
   "outputs": [],
   "source": [
    "def combs_with_multiplicity(vals, n):\n",
    "    fact = math.factorial(n)\n",
    "    for recip, vals in combs_with_multiplicity_recip(vals, n):\n",
    "        yield fact // recip, vals"
   ]
  },
  {
   "cell_type": "code",
   "execution_count": 10,
   "id": "c3aca034-ccd2-4b07-9112-99ce214de405",
   "metadata": {},
   "outputs": [],
   "source": [
    "def f(vals1, vals2):\n",
    "    return f_first(vals1, vals2) * f_second(vals1, vals2)"
   ]
  },
  {
   "cell_type": "code",
   "execution_count": 11,
   "id": "01227147-3845-462f-91eb-e456b68308d7",
   "metadata": {},
   "outputs": [],
   "source": [
    "def make_roots(m):\n",
    "    return np.roots([1] + [0]*(m-1) + [-1])"
   ]
  },
  {
   "cell_type": "code",
   "execution_count": 12,
   "id": "42463be3-24cc-4c27-82b3-f12d83114814",
   "metadata": {},
   "outputs": [],
   "source": [
    "def m_for(n):\n",
    "    return 2*((n+3) // 4) +1"
   ]
  },
  {
   "cell_type": "code",
   "execution_count": 13,
   "id": "4c03c844-5de1-4e4a-882c-d39f9123ddf9",
   "metadata": {},
   "outputs": [],
   "source": [
    "def count_cycles(n1, n2):\n",
    "    # these are deliberately switched\n",
    "    m1 = m_for(n2)\n",
    "    m2 = m_for(n1)\n",
    "\n",
    "    s = np.complex128()\n",
    "\n",
    "    for multx, x in combs_with_multiplicity(make_roots(m1), n1):\n",
    "        for multy, y in combs_with_multiplicity(make_roots(m2), n2-1):\n",
    "            s += multx * multy * f(x, y +  [np.complex128(1)])\n",
    "    \n",
    "    return s / (m1 ** (n1)) / (m2 ** (n2-1))"
   ]
  },
  {
   "cell_type": "code",
   "execution_count": 20,
   "id": "a5dfaf9b-f85e-449d-b9c6-fc1717c2fb1d",
   "metadata": {},
   "outputs": [],
   "source": [
    "def is_prime(x):\n",
    "    for i in range(2, int(math.sqrt(x) + 1)):\n",
    "        if x % i == 0:\n",
    "            return False\n",
    "    return True"
   ]
  },
  {
   "cell_type": "code",
   "execution_count": 23,
   "id": "ada2cbb4-fd42-40b9-b76d-6d3d2b6989e9",
   "metadata": {},
   "outputs": [],
   "source": [
    "primes = [x for x in range(2, 1000) if is_prime(x)]"
   ]
  },
  {
   "cell_type": "code",
   "execution_count": 36,
   "id": "45491a41-9be2-4b3f-a3a2-d465562c6108",
   "metadata": {},
   "outputs": [],
   "source": [
    "def factorize(n):\n",
    "    n_init = n\n",
    "    s = \"\"\n",
    "    for p in primes:\n",
    "        c = 0\n",
    "        while n % p == 0:\n",
    "            n //= p\n",
    "            c += 1\n",
    "        if c != 0:\n",
    "           s += f\" * {p}^{c}\"\n",
    "    return f\"{n_init} =\" + s[2:]"
   ]
  },
  {
   "cell_type": "code",
   "execution_count": 49,
   "id": "085b21b8-6a5e-405a-9d54-3edaf3fe6c9e",
   "metadata": {},
   "outputs": [],
   "source": [
    "def analyse(*args):\n",
    "    return factorize(round(count_cycles(*args).real))"
   ]
  },
  {
   "cell_type": "code",
   "execution_count": 63,
   "id": "6d3470ab-6807-46a7-83d7-77ab5a29580f",
   "metadata": {},
   "outputs": [],
   "source": [
    "def best_coeff(n1, n2):\n",
    "    return (math.factorial(n1-1)**n2) * (math.factorial(n2-1)**n1)"
   ]
  },
  {
   "cell_type": "code",
   "execution_count": 68,
   "id": "c23de57e-872a-4147-aa3c-8a47214eee6b",
   "metadata": {},
   "outputs": [
    {
     "data": {
      "text/plain": [
       "8916100448256000000000000"
      ]
     },
     "execution_count": 68,
     "metadata": {},
     "output_type": "execute_result"
    }
   ],
   "source": [
    "best_coeff(6, 6)"
   ]
  },
  {
   "cell_type": "code",
   "execution_count": 45,
   "id": "a985c124-d1f3-433c-81b7-7bc76cd0796b",
   "metadata": {},
   "outputs": [
    {
     "data": {
      "text/plain": [
       "6336"
      ]
     },
     "execution_count": 45,
     "metadata": {},
     "output_type": "execute_result"
    }
   ],
   "source": [
    "round(count_cycles(4, 4).real)"
   ]
  },
  {
   "cell_type": "code",
   "execution_count": 40,
   "id": "b7b25484-2693-401d-ae45-5d9e87493294",
   "metadata": {},
   "outputs": [
    {
     "ename": "TypeError",
     "evalue": "unsupported operand type(s) for %: 'numpy.complex128' and 'int'",
     "output_type": "error",
     "traceback": [
      "\u001b[31m---------------------------------------------------------------------------\u001b[39m",
      "\u001b[31mTypeError\u001b[39m                                 Traceback (most recent call last)",
      "\u001b[36mCell\u001b[39m\u001b[36m \u001b[39m\u001b[32mIn[40]\u001b[39m\u001b[32m, line 2\u001b[39m\n\u001b[32m      1\u001b[39m \u001b[38;5;66;03m# 4, 6\u001b[39;00m\n\u001b[32m----> \u001b[39m\u001b[32m2\u001b[39m \u001b[43mfactorize\u001b[49m\u001b[43m(\u001b[49m\u001b[43mcount_cycles\u001b[49m\u001b[43m(\u001b[49m\u001b[32;43m6\u001b[39;49m\u001b[43m,\u001b[49m\u001b[43m \u001b[49m\u001b[32;43m6\u001b[39;49m\u001b[43m)\u001b[49m\u001b[43m)\u001b[49m\n",
      "\u001b[36mCell\u001b[39m\u001b[36m \u001b[39m\u001b[32mIn[36]\u001b[39m\u001b[32m, line 6\u001b[39m, in \u001b[36mfactorize\u001b[39m\u001b[34m(n)\u001b[39m\n\u001b[32m      4\u001b[39m \u001b[38;5;28;01mfor\u001b[39;00m p \u001b[38;5;129;01min\u001b[39;00m primes:\n\u001b[32m      5\u001b[39m     c = \u001b[32m0\u001b[39m\n\u001b[32m----> \u001b[39m\u001b[32m6\u001b[39m     \u001b[38;5;28;01mwhile\u001b[39;00m \u001b[43mn\u001b[49m\u001b[43m \u001b[49m\u001b[43m%\u001b[49m\u001b[43m \u001b[49m\u001b[43mp\u001b[49m == \u001b[32m0\u001b[39m:\n\u001b[32m      7\u001b[39m         n //= p\n\u001b[32m      8\u001b[39m         c += \u001b[32m1\u001b[39m\n",
      "\u001b[31mTypeError\u001b[39m: unsupported operand type(s) for %: 'numpy.complex128' and 'int'"
     ]
    }
   ],
   "source": [
    "# 4, 6\n"
   ]
  },
  {
   "cell_type": "code",
   "execution_count": null,
   "id": "061ec55e-9385-4060-a584-461636b189e7",
   "metadata": {},
   "outputs": [],
   "source": []
  }
 ],
 "metadata": {
  "kernelspec": {
   "display_name": "Python 3 (ipykernel)",
   "language": "python",
   "name": "python3"
  },
  "language_info": {
   "codemirror_mode": {
    "name": "ipython",
    "version": 3
   },
   "file_extension": ".py",
   "mimetype": "text/x-python",
   "name": "python",
   "nbconvert_exporter": "python",
   "pygments_lexer": "ipython3",
   "version": "3.12.3"
  }
 },
 "nbformat": 4,
 "nbformat_minor": 5
}
