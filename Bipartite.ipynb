{
 "cells": [
  {
   "cell_type": "markdown",
   "id": "8c29ab99-a0f1-42fa-8a40-e4a7a34a658c",
   "metadata": {},
   "source": [
    "# This stuff is the by the book implementation"
   ]
  },
  {
   "cell_type": "code",
   "execution_count": 65,
   "id": "44c7ee59-5dc6-41f4-b085-224ec8e851ce",
   "metadata": {},
   "outputs": [],
   "source": [
    "import numpy as np\n",
    "import itertools\n",
    "import math"
   ]
  },
  {
   "cell_type": "code",
   "execution_count": 66,
   "id": "445f6003-36ff-429c-bcdd-0f87a384902f",
   "metadata": {},
   "outputs": [],
   "source": [
    "np.set_printoptions(linewidth=200)"
   ]
  },
  {
   "cell_type": "code",
   "execution_count": 67,
   "id": "3f9caa3e-88db-4148-bdbb-6de47e86b6a0",
   "metadata": {},
   "outputs": [],
   "source": [
    "def choose_ab(a, b):\n",
    "    return a / b"
   ]
  },
  {
   "cell_type": "code",
   "execution_count": 68,
   "id": "79f8f888-8927-48bd-8879-68cbbbaac54d",
   "metadata": {},
   "outputs": [],
   "source": [
    "def choose_both(a, b):\n",
    "    return choose_ab(a, b) + choose_ab(b, a)"
   ]
  },
  {
   "cell_type": "code",
   "execution_count": 69,
   "id": "ce1d57cb-afa7-49e0-9ef8-7cdbb9202166",
   "metadata": {},
   "outputs": [],
   "source": [
    "def f_first(vals1, vals2):\n",
    "    prod = np.complex128(1)\n",
    "    for a in vals1:\n",
    "        for b in vals2:\n",
    "            prod *= choose_both(a, b)\n",
    "\n",
    "    return prod"
   ]
  },
  {
   "cell_type": "code",
   "execution_count": 70,
   "id": "0f15aa2c-6d0e-4f21-abdb-203cfc883377",
   "metadata": {},
   "outputs": [],
   "source": [
    "def f_second(vals1, vals2):\n",
    "    n1 = len(vals1)\n",
    "    nboth = n1 + len(vals2)\n",
    "    A = np.zeros([nboth, nboth], dtype=np.complex128)\n",
    "    for j, a in enumerate(vals1):\n",
    "        for (k, b) in enumerate(vals2):\n",
    "            A[j,k+n1] = -1 * choose_ab(a, b) / choose_both(a, b)\n",
    "            A[k+n1,j] = -1 * choose_ab(b, a) / choose_both(a, b)\n",
    "\n",
    "    for i in range(nboth):\n",
    "        # check if this is row or col sum\n",
    "        A[i, i] = -1 * A[i, :].sum()\n",
    "\n",
    "    return np.linalg.det(A[:-1, :-1])"
   ]
  },
  {
   "cell_type": "code",
   "execution_count": 71,
   "id": "ad052f8f-e72a-48d6-b8a6-7ffdce3b3ad5",
   "metadata": {},
   "outputs": [],
   "source": [
    "def combs_with_multiplicity_recip(vals, n):\n",
    "    if n == 0:\n",
    "        yield (1, [])\n",
    "    elif len(vals) == 1:\n",
    "        yield (math.factorial(n), [vals[0]] * n)\n",
    "    else:\n",
    "        for i in range(0, n+1):\n",
    "            for (rest_recip, rest_vals) in combs_with_multiplicity_recip(vals[1:], n-i):\n",
    "                yield (rest_recip * math.factorial(i), [vals[0]] * i + rest_vals)"
   ]
  },
  {
   "cell_type": "code",
   "execution_count": 72,
   "id": "3a09a453-d8c6-41bb-b8c6-13f660dfc954",
   "metadata": {},
   "outputs": [],
   "source": [
    "def combs_with_multiplicity(vals, n):\n",
    "    fact = math.factorial(n)\n",
    "    for recip, vals in combs_with_multiplicity_recip(vals, n):\n",
    "        yield fact // recip, vals"
   ]
  },
  {
   "cell_type": "code",
   "execution_count": 73,
   "id": "c3aca034-ccd2-4b07-9112-99ce214de405",
   "metadata": {},
   "outputs": [],
   "source": [
    "def f(vals1, vals2):\n",
    "    return f_first(vals1, vals2) * f_second(vals1, vals2)"
   ]
  },
  {
   "cell_type": "code",
   "execution_count": 74,
   "id": "01227147-3845-462f-91eb-e456b68308d7",
   "metadata": {},
   "outputs": [],
   "source": [
    "def make_roots(m):\n",
    "    return np.roots([1] + [0]*(m-1) + [-1])"
   ]
  },
  {
   "cell_type": "code",
   "execution_count": 75,
   "id": "42463be3-24cc-4c27-82b3-f12d83114814",
   "metadata": {},
   "outputs": [],
   "source": [
    "def m_for(n):\n",
    "    return 2*((n+3) // 4) +1"
   ]
  },
  {
   "cell_type": "code",
   "execution_count": 76,
   "id": "4c03c844-5de1-4e4a-882c-d39f9123ddf9",
   "metadata": {},
   "outputs": [],
   "source": [
    "def count_cycles(n1, n2):\n",
    "    # these are deliberately switched\n",
    "    m1 = m_for(n2)\n",
    "    m2 = m_for(n1)\n",
    "\n",
    "    s = np.complex128()\n",
    "\n",
    "    for multx, x in combs_with_multiplicity(make_roots(m1), n1):\n",
    "        for multy, y in combs_with_multiplicity(make_roots(m2), n2-1):\n",
    "            s += multx * multy * f(x, y +  [np.complex128(1)])\n",
    "    \n",
    "    return s / (m1 ** (n1)) / (m2 ** (n2-1))"
   ]
  },
  {
   "cell_type": "code",
   "execution_count": 77,
   "id": "a5dfaf9b-f85e-449d-b9c6-fc1717c2fb1d",
   "metadata": {},
   "outputs": [],
   "source": [
    "def is_prime(x):\n",
    "    for i in range(2, int(math.sqrt(x) + 1)):\n",
    "        if x % i == 0:\n",
    "            return False\n",
    "    return True"
   ]
  },
  {
   "cell_type": "code",
   "execution_count": 78,
   "id": "ada2cbb4-fd42-40b9-b76d-6d3d2b6989e9",
   "metadata": {},
   "outputs": [],
   "source": [
    "primes = [x for x in range(2, 1000) if is_prime(x)]"
   ]
  },
  {
   "cell_type": "code",
   "execution_count": 79,
   "id": "45491a41-9be2-4b3f-a3a2-d465562c6108",
   "metadata": {},
   "outputs": [],
   "source": [
    "def factorize(n):\n",
    "    n_init = n\n",
    "    s = \"\"\n",
    "    for p in primes:\n",
    "        c = 0\n",
    "        while n % p == 0:\n",
    "            n //= p\n",
    "            c += 1\n",
    "        if c != 0:\n",
    "           s += f\" * {p}^{c}\"\n",
    "    return f\"{n_init} =\" + s[2:]"
   ]
  },
  {
   "cell_type": "code",
   "execution_count": 80,
   "id": "085b21b8-6a5e-405a-9d54-3edaf3fe6c9e",
   "metadata": {},
   "outputs": [],
   "source": [
    "def analyse(*args):\n",
    "    return factorize(round(count_cycles(*args).real))"
   ]
  },
  {
   "cell_type": "code",
   "execution_count": 81,
   "id": "6d3470ab-6807-46a7-83d7-77ab5a29580f",
   "metadata": {},
   "outputs": [],
   "source": [
    "def best_coeff(n1, n2):\n",
    "    return (math.factorial(n1//2-1)**n2) * (math.factorial(n2//2-1)**n1)"
   ]
  },
  {
   "cell_type": "code",
   "execution_count": 84,
   "id": "6daacaca-4361-45a4-a455-64032c5986f5",
   "metadata": {},
   "outputs": [
    {
     "data": {
      "text/plain": [
       "np.complex128(344604780.00000083-1.3365707518897297e-07j)"
      ]
     },
     "execution_count": 84,
     "metadata": {},
     "output_type": "execute_result"
    }
   ],
   "source": [
    "count_cycles(6, 6) / count_cycles(2, 6)"
   ]
  },
  {
   "cell_type": "code",
   "execution_count": 87,
   "id": "c755dba0-14d1-4579-af44-7875c4d2a022",
   "metadata": {},
   "outputs": [
    {
     "data": {
      "text/plain": [
       "'20676286800 = 2^4 * 3^5 * 5^2 * 13^1'"
      ]
     },
     "execution_count": 87,
     "metadata": {},
     "output_type": "execute_result"
    }
   ],
   "source": [
    "analyse(6, 6)"
   ]
  },
  {
   "cell_type": "code",
   "execution_count": 88,
   "id": "74ee4eff-c231-4b60-8f0c-4494fe2039a8",
   "metadata": {},
   "outputs": [
    {
     "data": {
      "text/plain": [
       "'6336 = 2^6 * 3^2 * 11^1'"
      ]
     },
     "execution_count": 88,
     "metadata": {},
     "output_type": "execute_result"
    }
   ],
   "source": [
    "analyse(4, 4)"
   ]
  },
  {
   "cell_type": "code",
   "execution_count": 89,
   "id": "7317c9b9-5cb4-4048-b444-91b38ff83759",
   "metadata": {},
   "outputs": [
    {
     "data": {
      "text/plain": [
       "'38215560203454201856 = 2^14 * 19^2 * 103^1 * 401^1'"
      ]
     },
     "execution_count": 89,
     "metadata": {},
     "output_type": "execute_result"
    }
   ],
   "source": [
    "analyse(8, 8)"
   ]
  },
  {
   "cell_type": "code",
   "execution_count": 93,
   "id": "eeb48555-3cbd-40ee-8045-f1cbe3e95beb",
   "metadata": {},
   "outputs": [],
   "source": [
    "roots = make_roots(7)"
   ]
  },
  {
   "cell_type": "code",
   "execution_count": 124,
   "id": "ef3510ae-1da8-4286-a443-c98fc2e74269",
   "metadata": {},
   "outputs": [
    {
     "data": {
      "text/plain": [
       "np.complex128(0.6234898018587333+0.7818314824680292j)"
      ]
     },
     "execution_count": 124,
     "metadata": {},
     "output_type": "execute_result"
    }
   ],
   "source": [
    "f_second([roots[0], roots[1]], [roots[2], roots[4]]) / f_second([roots[2], roots[4]], [roots[0], roots[1]])"
   ]
  },
  {
   "cell_type": "code",
   "execution_count": 125,
   "id": "a3a72c5c-267f-4611-9151-77fd61590643",
   "metadata": {},
   "outputs": [
    {
     "data": {
      "text/plain": [
       "np.complex128(0.6234898018587345+0.7818314824680305j)"
      ]
     },
     "execution_count": 125,
     "metadata": {},
     "output_type": "execute_result"
    }
   ],
   "source": [
    "roots[1] * roots[1]"
   ]
  },
  {
   "cell_type": "code",
   "execution_count": 123,
   "id": "df112d31-4536-46a2-9c77-43b72c8fcbba",
   "metadata": {},
   "outputs": [
    {
     "data": {
      "text/plain": [
       "np.complex128(-0.5549581320873754+1.4682812055561187j)"
      ]
     },
     "execution_count": 123,
     "metadata": {},
     "output_type": "execute_result"
    }
   ],
   "source": [
    "f_second([roots[2], roots[4]], [roots[0], roots[1]])"
   ]
  },
  {
   "cell_type": "code",
   "execution_count": 109,
   "id": "32510664-232d-481e-a59c-76e465f554ca",
   "metadata": {},
   "outputs": [
    {
     "data": {
      "text/plain": [
       "np.complex128(-0.90096886790242+0.4338837391175593j)"
      ]
     },
     "execution_count": 109,
     "metadata": {},
     "output_type": "execute_result"
    }
   ],
   "source": [
    "f_second([roots[0],roots[1]], [roots[0], roots[3], roots[4], roots[2]]) / f_second([roots[0],roots[1]], [roots[0], roots[3], roots[2], roots[4]])"
   ]
  },
  {
   "cell_type": "code",
   "execution_count": 112,
   "id": "8d51c57e-fe2e-407c-84ee-9768e93526ed",
   "metadata": {},
   "outputs": [
    {
     "data": {
      "text/plain": [
       "np.complex128(-0.9009688679024195-0.4338837391175581j)"
      ]
     },
     "execution_count": 112,
     "metadata": {},
     "output_type": "execute_result"
    }
   ],
   "source": [
    "roots[2]*roots[2]"
   ]
  },
  {
   "cell_type": "code",
   "execution_count": 118,
   "id": "ba997456-d9a2-476d-ac19-8671d2900776",
   "metadata": {},
   "outputs": [
    {
     "data": {
      "text/plain": [
       "np.complex128(-0.1402383329834479-0.014849964886693533j)"
      ]
     },
     "execution_count": 118,
     "metadata": {},
     "output_type": "execute_result"
    }
   ],
   "source": [
    "f_second([roots[0],roots[1], roots[2], roots[3]], [roots[0], roots[3], roots[2], roots[4]]) / f_second([roots[4],roots[1], roots[2], roots[3]], [roots[0], roots[3], roots[2], roots[0]])"
   ]
  },
  {
   "cell_type": "code",
   "execution_count": 120,
   "id": "ccb96da7-61bc-4ced-a0aa-daabeaac383e",
   "metadata": {},
   "outputs": [
    {
     "data": {
      "text/plain": [
       "np.complex128(0.6234898018587345-0.7818314824680305j)"
      ]
     },
     "execution_count": 120,
     "metadata": {},
     "output_type": "execute_result"
    }
   ],
   "source": [
    "roots[0]*roots[0]"
   ]
  },
  {
   "cell_type": "code",
   "execution_count": 119,
   "id": "5eb81b05-afb6-4c9d-a5c1-542217ba867f",
   "metadata": {},
   "outputs": [
    {
     "data": {
      "text/plain": [
       "np.complex128(1.0000000000000004+0j)"
      ]
     },
     "execution_count": 119,
     "metadata": {},
     "output_type": "execute_result"
    }
   ],
   "source": [
    "roots[4]"
   ]
  },
  {
   "cell_type": "code",
   "execution_count": null,
   "id": "052e25cf-1514-4382-8d33-8684533abb11",
   "metadata": {},
   "outputs": [],
   "source": []
  }
 ],
 "metadata": {
  "kernelspec": {
   "display_name": "Python 3 (ipykernel)",
   "language": "python",
   "name": "python3"
  },
  "language_info": {
   "codemirror_mode": {
    "name": "ipython",
    "version": 3
   },
   "file_extension": ".py",
   "mimetype": "text/x-python",
   "name": "python",
   "nbconvert_exporter": "python",
   "pygments_lexer": "ipython3",
   "version": "3.12.3"
  }
 },
 "nbformat": 4,
 "nbformat_minor": 5
}
