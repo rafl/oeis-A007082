{
 "cells": [
  {
   "cell_type": "code",
   "execution_count": 1,
   "id": "be14f76a-e283-409f-9c8e-49dbef5860e0",
   "metadata": {
    "collapsed": true,
    "jupyter": {
     "outputs_hidden": true
    }
   },
   "outputs": [
    {
     "name": "stdout",
     "output_type": "stream",
     "text": [
      "n=5\n",
      "--------------------------------------------\n",
      "--------------------------------------------\n",
      "[i, 0]\n",
      "--------------------------------------------\n",
      "fst_term\n",
      " (c[0] - 1)⋅c[0]  (c[i] - 1)⋅c[i]                 \n",
      " ───────────────  ───────────────        c[0]⋅c[i]\n",
      "        2                2        ⎛    1⎞         \n",
      "2               ⋅2               ⋅⎜w + ─⎟         \n",
      "                                  ⎝    w⎠         \n",
      "--------------------------------------------\n",
      "det\n",
      " -i     \n",
      "w  ⋅c[i]\n",
      "────────\n",
      " i    -i\n",
      "w  + w  \n",
      "--------------------------------------------\n",
      "prod_M\n",
      "                         c[i] - 1\n",
      "      c[0] - 1 ⎛ i      ⎞        \n",
      "⎛c[0]⎞         ⎜w ⋅c[0] ⎟        \n",
      "⎜────⎟        ⋅⎜────────⎟        \n",
      "⎝ 2  ⎠         ⎜ i    -i⎟        \n",
      "               ⎝w  + w  ⎠        \n",
      "─────────────────────────────────\n",
      "              c[i]               \n",
      "--------------------------------------------\n",
      "f( [i, 0] )\n",
      " (c[0] - 1)⋅c[0]  (c[i] - 1)⋅c[i]                              c[i] - 1        ↪\n",
      " ───────────────  ───────────────           c[0] - 1 ⎛ i      ⎞                ↪\n",
      "        2                2         -i ⎛c[0]⎞         ⎜w ⋅c[0] ⎟         ⎛    1 ↪\n",
      "2               ⋅2               ⋅w  ⋅⎜────⎟        ⋅⎜────────⎟        ⋅⎜w + ─ ↪\n",
      "                                      ⎝ 2  ⎠         ⎜ i    -i⎟         ⎝    w ↪\n",
      "                                                     ⎝w  + w  ⎠                ↪\n",
      "────────────────────────────────────────────────────────────────────────────── ↪\n",
      "                                         i    -i                               ↪\n",
      "                                        w  + w                                 ↪\n",
      "\n",
      "↪           \n",
      "↪  c[0]⋅c[i]\n",
      "↪ ⎞         \n",
      "↪ ⎟         \n",
      "↪ ⎠         \n",
      "↪           \n",
      "↪ ──────────\n",
      "↪           \n",
      "↪           \n",
      "--------------------------------------------\n",
      "Final result: 108\n"
     ]
    }
   ],
   "source": [
    "from sympy import *\n",
    "init_printing(use_unicode=True)\n",
    "\n",
    "m, n = symbols('m n', integer=True, positive=True, odd=True)\n",
    "w = symbols('w', integer=True, positive=True)\n",
    "mults = IndexedBase('c', shape=m, integer=True, nonnegative=True)\n",
    "i, j = symbols('i j', cls=Idx)\n",
    "# i = Idx('i', (0, m))\n",
    "# j = Idx('j', (i+1, m))\n",
    "\n",
    "def f_fst_term(ind):\n",
    "  global n\n",
    "  global mults\n",
    "  acc = 1\n",
    "  for j in range(len(ind)):\n",
    "    acc *= 2**(mults[ind[j]]*(mults[ind[j]]-1)/2)\n",
    "    for k in range(j+1, len(ind)):\n",
    "      acc *= (w**(j-k) + w**(k-j))**(mults[ind[j]]*mults[ind[k]])\n",
    "  # pprint(acc)\n",
    "  return acc\n",
    "\n",
    "def f_snd_trm(typ):\n",
    "  global m\n",
    "  global mults\n",
    "  r = len(typ)\n",
    "\n",
    "  prod_M = 1\n",
    "  for a in range(r):\n",
    "    i = typ[a]\n",
    "    sum = 0\n",
    "    for b in range(r):\n",
    "      j = typ[b]\n",
    "    sum += mults[j] * w**(i-j)/(w**(i-j) + w**(j-i))\n",
    "    prod_M *= sum**(mults[i]-1)\n",
    "  prod_M /= mults[typ[0]]\n",
    "\n",
    "  dim = r - 1\n",
    "  if dim == 0:\n",
    "    return prod_M\n",
    "\n",
    "  mat = zeros(dim, dim)\n",
    "  for a in range(1, r):\n",
    "    i = typ[a]\n",
    "\n",
    "    diag = mults[typ[0]] * w**(i-typ[0])/(w**(i-typ[0]) + w**(typ[0]-i))\n",
    "\n",
    "    for b in range(1, r):\n",
    "      j = typ[b]\n",
    "      if j == i:\n",
    "        continue\n",
    "\n",
    "      cell = mults[j] * w**(i-j)/(w**(i-j) + w**(j-i))\n",
    "\n",
    "      mat[a-1, b-1] = -cell\n",
    "      diag += cell\n",
    "\n",
    "    mat[a-1, a-1] = diag\n",
    "  det = mat.det()\n",
    "  print(\"--------------------------------------------\")\n",
    "  print(\"det\")\n",
    "  pprint(det)\n",
    "  print(\"--------------------------------------------\")\n",
    "  print(\"prod_M\")\n",
    "  pprint(prod_M)\n",
    "  print(\"--------------------------------------------\")\n",
    "  return prod_M * det\n",
    " \n",
    "def f(c):\n",
    "  # m = len(c)\n",
    "  # n = sum(c)\n",
    "  global mults\n",
    "  print(c)\n",
    "  t = f_fst_term(c)\n",
    "  print(\"--------------------------------------------\")\n",
    "  print(\"fst_term\")\n",
    "  pprint(t)\n",
    "  ret = (t * f_snd_trm(c))\n",
    "  \n",
    "  # ret = simplify(ret)\n",
    "  # # print(\"simplified\")\n",
    "  # # pprint(ret)\n",
    "  # # print(\"w^m = 1\")\n",
    "  poly = 0\n",
    "  # ret = expand(powsimp(expand(ret * w**9)))\n",
    "  # # pprint(ret)\n",
    "  # for x in range(m):\n",
    "  #   ret = ret.subs(w**(m+x), w**x)\n",
    "  #   ret = ret.subs(w**(2*m+x), w**x)\n",
    "  #   ret = ret.subs(w**(3*m+x), w**x)\n",
    "  #   ret = ret.subs(w**(4*m+x), w**x)\n",
    "  #   ret = ret.subs(w**(5*m+x), w**x)\n",
    "  #   ret = ret.subs(w**(6*m+x), w**x)\n",
    "  #   poly += w**(x)\n",
    "  #\n",
    "  #\n",
    "  # # pprint(ret)\n",
    "  # ret = simplify(ret)\n",
    "  # for x in range(m):\n",
    "  #   ret = ret.subs(w**(-x), w**(m-x))\n",
    "  # ret = factor(ret)\n",
    "  # ret = ret.subs(sum(c), n)\n",
    "  # ret = ret.subs(poly, 0)\n",
    "  # ret = expand(ret).subs(poly-w,-w).subs(poly-w**2,-w**2)\n",
    "  # ret = powsimp(ret)\n",
    "  # ret = ret * w**9\n",
    "  # for x in range(m):\n",
    "  #   ret = ret.subs(w**(m+x), w**x)\n",
    "  #   ret = ret.subs(w**(2*m+x), w**x)\n",
    "  #   ret = ret.subs(w**(3*m+x), w**x)\n",
    "  #   ret = ret.subs(w**(4*m+x), w**x)\n",
    "  #   ret = ret.subs(w**(5*m+x), w**x)\n",
    "  #   ret = ret.subs(w**(6*m+x), w**x)\n",
    "  #   ret = powsimp(expand(factor(ret).subs(poly, 0)).subs(poly-w**x,-w**x))\n",
    "  # ret = expand(ret)\n",
    "  # ret = simplify(ret)\n",
    "  print(\"f(\",c,\")\")\n",
    "  pprint(ret)\n",
    "  print(\"--------------------------------------------\")\n",
    "  # print(\"w=28\")\n",
    "  # pprint((ret % 271).subs(w,28))\n",
    "  return ret\n",
    "\n",
    "print(\"n=5\\n--------------------------------------------\")\n",
    "# f([5,0,0],5)\n",
    "# n = 5\n",
    "# m = 3\n",
    "# mults = [4,1,0]\n",
    "# f_0 = f([0,1])\n",
    "# mults = [1,0,4]\n",
    "# f_1 = f([0,2])\n",
    "# pprint(f_1/f_0)\n",
    "# pprint((f_1/f_0).subs(w, 28) % 271)\n",
    "# f([1,4,0],5)\n",
    "# f([4,0,1],5)\n",
    "# f([3,2,0],5)\n",
    "# f([2,0,3],5)\n",
    "# f([2,3,0],5)\n",
    "# f([3,0,2],5)\n",
    "# f([3,1,1],5)\n",
    "# f([1,1,3],5)\n",
    "# f([1,3,1],5)\n",
    "# f([2,2,1],5)\n",
    "# f([2,1,2],5)\n",
    "# f([1,2,2],5)\n",
    "# pprint(f([mults[0],0,0],5).subs(mults[0], 5))\n",
    "print(\"--------------------------------------------\")\n",
    "f_0 = f([i,0])\n",
    "# f_w = f([m-i,0])\n",
    "# Extract the actual symbols from the expression and substitute directly\n",
    "multiset = [3, 0, 2]\n",
    "\n",
    "# Get the parameters substituted first\n",
    "ex = f_0.subs([(m, len(multiset)), (n, sum(multiset)), (w, 28)])\n",
    "\n",
    "# Extract the actual indexed symbols from the expression\n",
    "c_0_symbol = None\n",
    "c_i_symbol = None\n",
    "i_symbol = None\n",
    "\n",
    "for sym in ex.free_symbols:\n",
    "    if str(sym) == 'c[0]':\n",
    "        c_0_symbol = sym\n",
    "    elif str(sym) == 'c[i]':\n",
    "        c_i_symbol = sym\n",
    "    elif str(sym) == 'i':\n",
    "        i_symbol = sym\n",
    "\n",
    "# Substitute using the actual symbols from the expression\n",
    "if c_0_symbol and c_i_symbol and i_symbol:\n",
    "    ex = ex.subs([(c_0_symbol, multiset[0]), (c_i_symbol, multiset[2]), (i_symbol, 2)])\n",
    "    \n",
    "print(\"Final result:\", ex.numerator % 271 * ex.denominator**(269) % 271)\n",
    "# pprint(ex)\n",
    "\n",
    "# print(\"n=3\\n--------------------------------------------\")\n",
    "# f([3,0,0],3)\n",
    "# f([2,1,0],3)\n",
    "# f([2,0,1],3)\n",
    "# f([1,2,0],3)\n",
    "# f([1,0,2],3)\n",
    "# f([1,1,1],3)\n",
    "# pprint(f([mults[0],0,0],3).subs(mults[0], 3))\n",
    "# print(\"--------------------------------------------\")\n",
    "# f([mults[0],mults[1],0],3)\n",
    "# f([mults[0],mults[1],mults[2]],3)\n",
    "\n"
   ]
  },
  {
   "cell_type": "code",
   "execution_count": 2,
   "id": "c49b980c-b46e-41cd-bf76-667851af99df",
   "metadata": {},
   "outputs": [],
   "source": [
    "from sympy import *"
   ]
  },
  {
   "cell_type": "code",
   "execution_count": 3,
   "id": "a9a6f12d-13c2-46cf-b876-1fc2e20cb436",
   "metadata": {},
   "outputs": [],
   "source": [
    "n = 3\n",
    "xs = symbols(f\"x1:{n+1}\")"
   ]
  },
  {
   "cell_type": "code",
   "execution_count": 4,
   "id": "0225cdea-60a9-450a-97bb-5675d216d0b3",
   "metadata": {},
   "outputs": [],
   "source": [
    "def choose_ij(vals, i, j):\n",
    "    return vals[i] / vals[j]"
   ]
  },
  {
   "cell_type": "code",
   "execution_count": 5,
   "id": "08c0d9ba-fd0f-412f-a379-0dd872541f1f",
   "metadata": {},
   "outputs": [],
   "source": [
    "def choose_both(vals, i, j):\n",
    "    return choose_ij(vals, i, j) + choose_ij(vals, j, i)"
   ]
  },
  {
   "cell_type": "code",
   "execution_count": 6,
   "id": "1dc103b9-0fa4-40b6-b912-7afd4c0bf195",
   "metadata": {},
   "outputs": [],
   "source": [
    "def choose_both(vals, i, j):\n",
    "    return choose_ij(vals, i, j) + choose_ij(vals, j, i)"
   ]
  },
  {
   "cell_type": "code",
   "execution_count": 7,
   "id": "00ef7ad5-4e7f-49e9-8153-04a9b6831907",
   "metadata": {},
   "outputs": [],
   "source": [
    "def f_first(vals):\n",
    "    prod = 1\n",
    "    for j in range(len(vals)):\n",
    "        for k in range(j+1, len(vals)):\n",
    "            prod *= choose_both(vals, j, k)\n",
    "\n",
    "    return prod"
   ]
  },
  {
   "cell_type": "code",
   "execution_count": 8,
   "id": "55bd2ba4-9773-4d6c-bf01-bb871d0aeb65",
   "metadata": {},
   "outputs": [],
   "source": [
    "def f_second(vals):\n",
    "    A = zeros(len(vals), len(vals))\n",
    "    for j in range(len(vals)):\n",
    "        for k in range(len(vals)):\n",
    "            if j == k:\n",
    "                continue\n",
    "            A[j,k] = -1 * choose_ij(vals, j, k) / choose_both(vals, j, k)\n",
    "\n",
    "    for i in range(len(vals)):\n",
    "        # check if this is row or col sum\n",
    "        A[i, i] = A[i, :] * - ones(len(vals), 1)\n",
    "\n",
    "    return (A[:-1, :-1]).det()"
   ]
  },
  {
   "cell_type": "code",
   "execution_count": 9,
   "id": "b6440b1e-0b2d-408d-bef9-16f914c2dac4",
   "metadata": {},
   "outputs": [],
   "source": [
    "def f(vals):\n",
    "    return f_first(vals) * f_second(vals)"
   ]
  },
  {
   "cell_type": "code",
   "execution_count": 10,
   "id": "dd9b2b26-88bf-4b83-8d93-0f5add3fc10d",
   "metadata": {},
   "outputs": [],
   "source": [
    "res = f(xs)"
   ]
  },
  {
   "cell_type": "code",
   "execution_count": 16,
   "id": "916f96a8-f32c-4215-bc18-3e69d33908b1",
   "metadata": {},
   "outputs": [],
   "source": [
    "k5inx2 = f(xs[:2]+(1,1,1))"
   ]
  },
  {
   "cell_type": "code",
   "execution_count": 17,
   "id": "517ab871-654c-411e-85c6-3ab82989ce4b",
   "metadata": {},
   "outputs": [
    {
     "data": {
      "text/latex": [
       "$\\displaystyle 72.0 x_{1}^{4} x_{2}^{2} + 240.0 x_{1}^{4} + \\frac{200.0 x_{1}^{4}}{x_{2}^{2}} + 72.0 x_{1}^{2} x_{2}^{4} + 516.0 x_{1}^{2} x_{2}^{2} + 1056.0 x_{1}^{2} + \\frac{660.0 x_{1}^{2}}{x_{2}^{2}} + 240.0 x_{2}^{4} + 1056.0 x_{2}^{2} + 1488.0 + \\frac{672.0}{x_{2}^{2}} + \\frac{200.0 x_{2}^{4}}{x_{1}^{2}} + \\frac{660.0 x_{2}^{2}}{x_{1}^{2}} + \\frac{672.0}{x_{1}^{2}} + \\frac{196.0}{x_{1}^{2} x_{2}^{2}}$"
      ],
      "text/plain": [
       "72.0*x1**4*x2**2 + 240.0*x1**4 + 200.0*x1**4/x2**2 + 72.0*x1**2*x2**4 + 516.0*x1**2*x2**2 + 1056.0*x1**2 + 660.0*x1**2/x2**2 + 240.0*x2**4 + 1056.0*x2**2 + 1488.0 + 672.0/x2**2 + 200.0*x2**4/x1**2 + 660.0*x2**2/x1**2 + 672.0/x1**2 + 196.0/(x1**2*x2**2)"
      ]
     },
     "execution_count": 17,
     "metadata": {},
     "output_type": "execute_result"
    }
   ],
   "source": [
    "expand(simplify(k5inx2))"
   ]
  },
  {
   "cell_type": "code",
   "execution_count": 73,
   "id": "df433e93-e615-4897-ac48-d3bc44de9383",
   "metadata": {},
   "outputs": [],
   "source": [
    "n = 5\n",
    "xs = (symbols(f\"x1\"),) + (1,1,1,1,1) + (symbols(\"x2\"),)"
   ]
  },
  {
   "cell_type": "code",
   "execution_count": null,
   "id": "bd6a1b12-07c4-4302-99ac-364a4aafab8c",
   "metadata": {},
   "outputs": [],
   "source": [
    "res = f(xs)"
   ]
  },
  {
   "cell_type": "code",
   "execution_count": 11,
   "id": "037360ce-f4e1-44e2-b80d-615275fc7271",
   "metadata": {},
   "outputs": [],
   "source": [
    "simpres = expand(simplify(res))"
   ]
  },
  {
   "cell_type": "code",
   "execution_count": 12,
   "id": "b67c9bc9-ae34-4ca3-aeb3-180ce8a888e8",
   "metadata": {
    "scrolled": true
   },
   "outputs": [
    {
     "data": {
      "text/latex": [
       "$\\displaystyle \\frac{2 x_{1}^{2}}{x_{3}^{2}} + \\frac{2 x_{2}^{2}}{x_{3}^{2}} + 2$"
      ],
      "text/plain": [
       "2*x1**2/x3**2 + 2*x2**2/x3**2 + 2"
      ]
     },
     "execution_count": 12,
     "metadata": {},
     "output_type": "execute_result"
    }
   ],
   "source": [
    "simpres"
   ]
  },
  {
   "cell_type": "code",
   "execution_count": null,
   "id": "91165c50-1b83-48ae-bfff-074e09f2a1eb",
   "metadata": {},
   "outputs": [],
   "source": []
  }
 ],
 "metadata": {
  "kernelspec": {
   "display_name": "Python 3 (ipykernel)",
   "language": "python",
   "name": "python3"
  },
  "language_info": {
   "codemirror_mode": {
    "name": "ipython",
    "version": 3
   },
   "file_extension": ".py",
   "mimetype": "text/x-python",
   "name": "python",
   "nbconvert_exporter": "python",
   "pygments_lexer": "ipython3",
   "version": "3.12.3"
  }
 },
 "nbformat": 4,
 "nbformat_minor": 5
}
