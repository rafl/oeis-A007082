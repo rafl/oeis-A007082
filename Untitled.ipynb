{
 "cells": [
  {
   "cell_type": "code",
   "execution_count": 170,
   "id": "4cc5c130-a406-4ec6-9108-1eaa08126454",
   "metadata": {},
   "outputs": [],
   "source": [
    "n=\"123456789\"\n",
    "v=\" \"*9+n"
   ]
  },
  {
   "cell_type": "code",
   "execution_count": 148,
   "id": "0a774c95-75e8-4fe5-8b3c-a5dba7082bae",
   "metadata": {},
   "outputs": [
    {
     "data": {
      "text/plain": [
       "'    12345'"
      ]
     },
     "execution_count": 148,
     "metadata": {},
     "output_type": "execute_result"
    }
   ],
   "source": [
    "f=lambda i:v[i:i+9]\n",
    "f(5)"
   ]
  },
  {
   "cell_type": "code",
   "execution_count": 117,
   "id": "1b812bf4-4810-4fb9-860c-eab9ac72c1cc",
   "metadata": {},
   "outputs": [],
   "source": [
    "g=lambda i:v[i:i+9]+v[i+7::-1]"
   ]
  },
  {
   "cell_type": "code",
   "execution_count": 150,
   "id": "1ce9e444-aa14-49ea-a0f2-b12a72be00e1",
   "metadata": {},
   "outputs": [
    {
     "data": {
      "text/plain": [
       "'    123454321         '"
      ]
     },
     "execution_count": 150,
     "metadata": {},
     "output_type": "execute_result"
    }
   ],
   "source": [
    "g(5)"
   ]
  },
  {
   "cell_type": "code",
   "execution_count": 172,
   "id": "8d51a6be-aad4-4f14-93b5-21591cf39684",
   "metadata": {},
   "outputs": [
    {
     "data": {
      "text/plain": [
       "'123454321'"
      ]
     },
     "execution_count": 172,
     "metadata": {},
     "output_type": "execute_result"
    }
   ],
   "source": [
    "n[:5]+n[3::-1]"
   ]
  },
  {
   "cell_type": "code",
   "execution_count": 173,
   "id": "4956d4ed-a663-46c5-99fc-bd8e5dd77c89",
   "metadata": {},
   "outputs": [
    {
     "data": {
      "text/plain": [
       "[1, 2, 3, 4, 5, 4, 3, 2, 1]"
      ]
     },
     "execution_count": 173,
     "metadata": {},
     "output_type": "execute_result"
    }
   ],
   "source": [
    "[int(x) for x in n[:5]+n[3::-1]]"
   ]
  },
  {
   "cell_type": "code",
   "execution_count": 119,
   "id": "be690854-8f41-44d2-9116-d642163439b1",
   "metadata": {},
   "outputs": [],
   "source": [
    "h=lambda j:[print(g(int(l))) for l in n[:j]+n[j::-1]+\"0\"]"
   ]
  },
  {
   "cell_type": "code",
   "execution_count": 120,
   "id": "e956a476-4401-4085-bbfb-26f6b3b5cac1",
   "metadata": {
    "collapsed": true,
    "jupyter": {
     "outputs_hidden": true
    },
    "scrolled": true
   },
   "outputs": [
    {
     "name": "stdout",
     "output_type": "stream",
     "text": [
      "        1         \n",
      "                 \n",
      "        1         \n",
      "       121         \n",
      "        1         \n",
      "                 \n",
      "        1         \n",
      "       121         \n",
      "      12321         \n",
      "       121         \n",
      "        1         \n",
      "                 \n",
      "        1         \n",
      "       121         \n",
      "      12321         \n",
      "     1234321         \n",
      "      12321         \n",
      "       121         \n",
      "        1         \n",
      "                 \n",
      "        1         \n",
      "       121         \n",
      "      12321         \n",
      "     1234321         \n",
      "    123454321         \n",
      "     1234321         \n",
      "      12321         \n",
      "       121         \n",
      "        1         \n",
      "                 \n",
      "        1         \n",
      "       121         \n",
      "      12321         \n",
      "     1234321         \n",
      "    123454321         \n",
      "   12345654321         \n",
      "    123454321         \n",
      "     1234321         \n",
      "      12321         \n",
      "       121         \n",
      "        1         \n",
      "                 \n",
      "        1         \n",
      "       121         \n",
      "      12321         \n",
      "     1234321         \n",
      "    123454321         \n",
      "   12345654321         \n",
      "  1234567654321         \n",
      "   12345654321         \n",
      "    123454321         \n",
      "     1234321         \n",
      "      12321         \n",
      "       121         \n",
      "        1         \n",
      "                 \n",
      "        1         \n",
      "       121         \n",
      "      12321         \n",
      "     1234321         \n",
      "    123454321         \n",
      "   12345654321         \n",
      "  1234567654321         \n",
      " 123456787654321         \n",
      "  1234567654321         \n",
      "   12345654321         \n",
      "    123454321         \n",
      "     1234321         \n",
      "      12321         \n",
      "       121         \n",
      "        1         \n",
      "                 \n",
      "        1         \n",
      "       121         \n",
      "      12321         \n",
      "     1234321         \n",
      "    123454321         \n",
      "   12345654321         \n",
      "  1234567654321         \n",
      " 123456787654321         \n",
      "12345678987654321         \n",
      " 123456787654321         \n",
      "  1234567654321         \n",
      "   12345654321         \n",
      "    123454321         \n",
      "     1234321         \n",
      "      12321         \n",
      "       121         \n",
      "        1         \n",
      "                 \n",
      "        1         \n",
      "       121         \n",
      "      12321         \n",
      "     1234321         \n",
      "    123454321         \n",
      "   12345654321         \n",
      "  1234567654321         \n",
      " 123456787654321         \n",
      "12345678987654321         \n",
      "12345678987654321         \n",
      " 123456787654321         \n",
      "  1234567654321         \n",
      "   12345654321         \n",
      "    123454321         \n",
      "     1234321         \n",
      "      12321         \n",
      "       121         \n",
      "        1         \n",
      "                 \n"
     ]
    },
    {
     "data": {
      "text/plain": [
       "[[None, None],\n",
       " [None, None, None, None],\n",
       " [None, None, None, None, None, None],\n",
       " [None, None, None, None, None, None, None, None],\n",
       " [None, None, None, None, None, None, None, None, None, None],\n",
       " [None, None, None, None, None, None, None, None, None, None, None, None],\n",
       " [None,\n",
       "  None,\n",
       "  None,\n",
       "  None,\n",
       "  None,\n",
       "  None,\n",
       "  None,\n",
       "  None,\n",
       "  None,\n",
       "  None,\n",
       "  None,\n",
       "  None,\n",
       "  None,\n",
       "  None],\n",
       " [None,\n",
       "  None,\n",
       "  None,\n",
       "  None,\n",
       "  None,\n",
       "  None,\n",
       "  None,\n",
       "  None,\n",
       "  None,\n",
       "  None,\n",
       "  None,\n",
       "  None,\n",
       "  None,\n",
       "  None,\n",
       "  None,\n",
       "  None],\n",
       " [None,\n",
       "  None,\n",
       "  None,\n",
       "  None,\n",
       "  None,\n",
       "  None,\n",
       "  None,\n",
       "  None,\n",
       "  None,\n",
       "  None,\n",
       "  None,\n",
       "  None,\n",
       "  None,\n",
       "  None,\n",
       "  None,\n",
       "  None,\n",
       "  None,\n",
       "  None],\n",
       " [None,\n",
       "  None,\n",
       "  None,\n",
       "  None,\n",
       "  None,\n",
       "  None,\n",
       "  None,\n",
       "  None,\n",
       "  None,\n",
       "  None,\n",
       "  None,\n",
       "  None,\n",
       "  None,\n",
       "  None,\n",
       "  None,\n",
       "  None,\n",
       "  None,\n",
       "  None,\n",
       "  None]]"
      ]
     },
     "execution_count": 120,
     "metadata": {},
     "output_type": "execute_result"
    }
   ],
   "source": [
    "[h(int(k)) for k in \"0\"+n]"
   ]
  },
  {
   "cell_type": "code",
   "execution_count": null,
   "id": "c698272b-102b-4e6d-9c59-ef68b7618a21",
   "metadata": {},
   "outputs": [],
   "source": []
  },
  {
   "cell_type": "code",
   "execution_count": 130,
   "id": "239fcd03-c6af-4811-b69e-3702c576eb4c",
   "metadata": {
    "scrolled": true
   },
   "outputs": [
    {
     "name": "stdout",
     "output_type": "stream",
     "text": [
      "        1         \n",
      "                 \n",
      "        1         \n",
      "       121         \n",
      "        1         \n",
      "                 \n",
      "        1         \n",
      "       121         \n",
      "      12321         \n",
      "       121         \n",
      "        1         \n",
      "                 \n",
      "        1         \n",
      "       121         \n",
      "      12321         \n",
      "     1234321         \n",
      "      12321         \n",
      "       121         \n",
      "        1         \n",
      "                 \n",
      "        1         \n",
      "       121         \n",
      "      12321         \n",
      "     1234321         \n",
      "    123454321         \n",
      "     1234321         \n",
      "      12321         \n",
      "       121         \n",
      "        1         \n",
      "                 \n",
      "        1         \n",
      "       121         \n",
      "      12321         \n",
      "     1234321         \n",
      "    123454321         \n",
      "   12345654321         \n",
      "    123454321         \n",
      "     1234321         \n",
      "      12321         \n",
      "       121         \n",
      "        1         \n",
      "                 \n",
      "        1         \n",
      "       121         \n",
      "      12321         \n",
      "     1234321         \n",
      "    123454321         \n",
      "   12345654321         \n",
      "  1234567654321         \n",
      "   12345654321         \n",
      "    123454321         \n",
      "     1234321         \n",
      "      12321         \n",
      "       121         \n",
      "        1         \n",
      "                 \n",
      "        1         \n",
      "       121         \n",
      "      12321         \n",
      "     1234321         \n",
      "    123454321         \n",
      "   12345654321         \n",
      "  1234567654321         \n",
      " 123456787654321         \n",
      "  1234567654321         \n",
      "   12345654321         \n",
      "    123454321         \n",
      "     1234321         \n",
      "      12321         \n",
      "       121         \n",
      "        1         \n",
      "                 \n",
      "        1         \n",
      "       121         \n",
      "      12321         \n",
      "     1234321         \n",
      "    123454321         \n",
      "   12345654321         \n",
      "  1234567654321         \n",
      " 123456787654321         \n",
      "12345678987654321         \n",
      " 123456787654321         \n",
      "  1234567654321         \n",
      "   12345654321         \n",
      "    123454321         \n",
      "     1234321         \n",
      "      12321         \n",
      "       121         \n",
      "        1         \n",
      "                 \n",
      "        1         \n",
      "       121         \n",
      "      12321         \n",
      "     1234321         \n",
      "    123454321         \n",
      "   12345654321         \n",
      "  1234567654321         \n",
      " 123456787654321         \n",
      "12345678987654321         \n",
      "12345678987654321         \n",
      " 123456787654321         \n",
      "  1234567654321         \n",
      "   12345654321         \n",
      "    123454321         \n",
      "     1234321         \n",
      "      12321         \n",
      "       121         \n",
      "        1         \n",
      "                 \n"
     ]
    },
    {
     "data": {
      "text/plain": [
       "[[None, None],\n",
       " [None, None, None, None],\n",
       " [None, None, None, None, None, None],\n",
       " [None, None, None, None, None, None, None, None],\n",
       " [None, None, None, None, None, None, None, None, None, None],\n",
       " [None, None, None, None, None, None, None, None, None, None, None, None],\n",
       " [None,\n",
       "  None,\n",
       "  None,\n",
       "  None,\n",
       "  None,\n",
       "  None,\n",
       "  None,\n",
       "  None,\n",
       "  None,\n",
       "  None,\n",
       "  None,\n",
       "  None,\n",
       "  None,\n",
       "  None],\n",
       " [None,\n",
       "  None,\n",
       "  None,\n",
       "  None,\n",
       "  None,\n",
       "  None,\n",
       "  None,\n",
       "  None,\n",
       "  None,\n",
       "  None,\n",
       "  None,\n",
       "  None,\n",
       "  None,\n",
       "  None,\n",
       "  None,\n",
       "  None],\n",
       " [None,\n",
       "  None,\n",
       "  None,\n",
       "  None,\n",
       "  None,\n",
       "  None,\n",
       "  None,\n",
       "  None,\n",
       "  None,\n",
       "  None,\n",
       "  None,\n",
       "  None,\n",
       "  None,\n",
       "  None,\n",
       "  None,\n",
       "  None,\n",
       "  None,\n",
       "  None],\n",
       " [None,\n",
       "  None,\n",
       "  None,\n",
       "  None,\n",
       "  None,\n",
       "  None,\n",
       "  None,\n",
       "  None,\n",
       "  None,\n",
       "  None,\n",
       "  None,\n",
       "  None,\n",
       "  None,\n",
       "  None,\n",
       "  None,\n",
       "  None,\n",
       "  None,\n",
       "  None,\n",
       "  None]]"
      ]
     },
     "execution_count": 130,
     "metadata": {},
     "output_type": "execute_result"
    }
   ],
   "source": [
    "g=lambda i:v[i:i+9]+v[i+7::-1]\n",
    "[[print(g(int(l))) for l in n[:int(j)]+n[int(j)::-1]+\"0\"] for j in \"0\"+n]"
   ]
  },
  {
   "cell_type": "code",
   "execution_count": 178,
   "id": "427a916c-950a-4bb1-98b5-71102daa9458",
   "metadata": {},
   "outputs": [
    {
     "ename": "SyntaxError",
     "evalue": "invalid syntax (1609911423.py, line 3)",
     "output_type": "error",
     "traceback": [
      "  \u001b[36mCell\u001b[39m\u001b[36m \u001b[39m\u001b[32mIn[178]\u001b[39m\u001b[32m, line 3\u001b[39m\n\u001b[31m    \u001b[39m\u001b[31m[print(,v[(i:=int(l)):i+9]+v[i+7::-1]) for j in range(9) for l in n[:j]+n[j::-1]+\"0\"]\u001b[39m\n           ^\n\u001b[31mSyntaxError\u001b[39m\u001b[31m:\u001b[39m invalid syntax\n"
     ]
    }
   ],
   "source": [
    "n=\"123456789\"\n",
    "v=\" \"*9+n\n",
    "[print(v[(i:=int(l)):i+9]+v[i+7::-1]) for j in range(9) for l in n[:j]+n[j::-1]+\"0\"]"
   ]
  },
  {
   "cell_type": "code",
   "execution_count": 182,
   "id": "d0b85838-1008-42b8-8b85-ed4ec9a0a8de",
   "metadata": {},
   "outputs": [
    {
     "ename": "SyntaxError",
     "evalue": "invalid syntax (3823187777.py, line 1)",
     "output_type": "error",
     "traceback": [
      "  \u001b[36mCell\u001b[39m\u001b[36m \u001b[39m\u001b[32mIn[182]\u001b[39m\u001b[32m, line 1\u001b[39m\n\u001b[31m    \u001b[39m\u001b[31mfor x in range(0, 9):for y in range(1-x,x):w=8-abs(y);print(' '*abs(y)+''.join(str(9-(abs(y)+abs(x))) for x in range(-w,w+1)));\u001b[39m\n                         ^\n\u001b[31mSyntaxError\u001b[39m\u001b[31m:\u001b[39m invalid syntax\n"
     ]
    }
   ],
   "source": [
    "for x in range(0, 9):for y in range(1-x,x):w=8-abs(y);print(' '*abs(y)+''.join(str(9-(abs(y)+abs(x))) for x in range(-w,w+1)))"
   ]
  },
  {
   "cell_type": "code",
   "execution_count": null,
   "id": "d2df5c45-eba9-47e8-a673-e3b632e91b0b",
   "metadata": {},
   "outputs": [],
   "source": []
  }
 ],
 "metadata": {
  "kernelspec": {
   "display_name": "Python 3 (ipykernel)",
   "language": "python",
   "name": "python3"
  },
  "language_info": {
   "codemirror_mode": {
    "name": "ipython",
    "version": 3
   },
   "file_extension": ".py",
   "mimetype": "text/x-python",
   "name": "python",
   "nbconvert_exporter": "python",
   "pygments_lexer": "ipython3",
   "version": "3.12.3"
  }
 },
 "nbformat": 4,
 "nbformat_minor": 5
}
