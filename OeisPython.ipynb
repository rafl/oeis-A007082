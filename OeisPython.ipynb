{
 "cells": [
  {
   "cell_type": "code",
   "execution_count": 2,
   "id": "44c7ee59-5dc6-41f4-b085-224ec8e851ce",
   "metadata": {},
   "outputs": [],
   "source": [
    "import numpy as np\n",
    "import itertools"
   ]
  },
  {
   "cell_type": "code",
   "execution_count": 3,
   "id": "445f6003-36ff-429c-bcdd-0f87a384902f",
   "metadata": {},
   "outputs": [],
   "source": [
    "np.set_printoptions(linewidth=200)"
   ]
  },
  {
   "cell_type": "code",
   "execution_count": 4,
   "id": "3f9caa3e-88db-4148-bdbb-6de47e86b6a0",
   "metadata": {},
   "outputs": [],
   "source": [
    "def choose_ij(vals, i, j):\n",
    "    return vals[i] / vals[j]"
   ]
  },
  {
   "cell_type": "code",
   "execution_count": 5,
   "id": "79f8f888-8927-48bd-8879-68cbbbaac54d",
   "metadata": {},
   "outputs": [],
   "source": [
    "def choose_both(vals, i, j):\n",
    "    return choose_ij(vals, i, j) + choose_ij(vals, j, i)"
   ]
  },
  {
   "cell_type": "code",
   "execution_count": 6,
   "id": "ce1d57cb-afa7-49e0-9ef8-7cdbb9202166",
   "metadata": {},
   "outputs": [],
   "source": [
    "def f_first(vals):\n",
    "    prod = np.complex128(1)\n",
    "    for j in range(len(vals)):\n",
    "        for k in range(j+1, len(vals)):\n",
    "            prod *= choose_both(vals, j, k)\n",
    "\n",
    "    return prod"
   ]
  },
  {
   "cell_type": "code",
   "execution_count": 7,
   "id": "0f15aa2c-6d0e-4f21-abdb-203cfc883377",
   "metadata": {},
   "outputs": [],
   "source": [
    "def f_second(vals):\n",
    "    A = np.zeros([len(vals), len(vals)], dtype=np.complex128)\n",
    "    for j in range(len(vals)):\n",
    "        for k in range(len(vals)):\n",
    "            if j == k:\n",
    "                continue\n",
    "            A[j,k] = -1 * choose_ij(vals, j, k) / choose_both(vals, j, k)\n",
    "\n",
    "    for i in range(len(vals)):\n",
    "        # check if this is row or col sum\n",
    "        A[i, i] = -1 * A[i, :].sum()\n",
    "\n",
    "    return np.linalg.det(A[:-1, :-1])"
   ]
  },
  {
   "cell_type": "code",
   "execution_count": 8,
   "id": "c3aca034-ccd2-4b07-9112-99ce214de405",
   "metadata": {},
   "outputs": [],
   "source": [
    "def f(vals):\n",
    "    return f_first(vals) * f_second(vals)"
   ]
  },
  {
   "cell_type": "code",
   "execution_count": 9,
   "id": "4c03c844-5de1-4e4a-882c-d39f9123ddf9",
   "metadata": {},
   "outputs": [],
   "source": [
    "def count_cycles(n, m):\n",
    "    roots = np.roots([1] + [0]*(m-1) + [-1])\n",
    "\n",
    "    s = np.complex128()\n",
    "\n",
    "    for x in itertools.product(roots, repeat=n-1):\n",
    "        s += f(x + (np.complex128(1),))\n",
    "    \n",
    "    return s / m ** (n-1)"
   ]
  },
  {
   "cell_type": "code",
   "execution_count": 13,
   "id": "018721d1-0608-41e6-b517-2eb37d6965e4",
   "metadata": {
    "jupyter": {
     "source_hidden": true
    }
   },
   "outputs": [],
   "source": [
    "# So - our calculation has given us both the constant term - and also the terms where the exponents are all in {0, -6, 6}\n",
    "# The exponents of the x_i are calculating the \"net out degree\". So note that the only vertex that can have net out degree is the root vertex of our tree - v_n\n",
    "# Note also that the total degree of each term is zero. So therefore these terms must all be of the form x_i^6*x_n*-6 - i!= n\n",
    "# We could try and calculate this term directly (and multiply by n-1 for the n-1 choices for i at the end)\n",
    "# Wlog take i = n-1\n",
    "# We want to force our graph to have directed edges E_n-1,i and E_i,n. \n",
    "# So we can take an adjusted f_first with all these coefficients\n",
    "# Then in our matrix we could fill things as normal but put a zero if E_i,n-1 or E_n,i is in the tree, and put a 1 where E_n-1,i or E_i,n in the tree\n",
    "# This also lets us factor x_i, x_n out of our formula. Taking these two out both adds and removes 1 from each degree putting us back where we started"
   ]
  },
  {
   "cell_type": "code",
   "execution_count": 48,
   "id": "0aa45f2d-ff73-4c61-b4a3-6953561eb70a",
   "metadata": {},
   "outputs": [],
   "source": [
    "def f_second_mod(vals):\n",
    "    n = len(vals)+2\n",
    "    A = np.zeros([n, n], dtype=np.complex128)\n",
    "    for j in range(len(vals)):\n",
    "        for k in range(len(vals)):\n",
    "            if j == k:\n",
    "                continue\n",
    "            A[j,k] = -1 * choose_ij(vals, j, k) / choose_both(vals, j, k)\n",
    "\n",
    "    for i in range(n):\n",
    "        # if i != n-1:\n",
    "        A[i, n-1] = -1\n",
    "        A[n-1, i] = 0\n",
    "\n",
    "        if i != n-2:\n",
    "            A[i, n-2] = 0\n",
    "            A[n-2, i] = -1\n",
    "\n",
    "        # There's an extra minus one here???\n",
    "        \n",
    "        \n",
    "\n",
    "    for i in range(n):\n",
    "        # check if this is row or col sum\n",
    "        A[i, i] = -1 * A[i, :].sum()\n",
    "\n",
    "    # return A\n",
    "    \n",
    "    return np.linalg.det(A[:-1, :-1])"
   ]
  },
  {
   "cell_type": "code",
   "execution_count": 49,
   "id": "6a8718ad-8f2d-411d-89a4-c193f9207eb2",
   "metadata": {},
   "outputs": [],
   "source": [
    "# f_second_mod([1,1,1,1,1])"
   ]
  },
  {
   "cell_type": "code",
   "execution_count": 50,
   "id": "413d787e-4575-455f-a599-8c3af32e0fab",
   "metadata": {},
   "outputs": [],
   "source": [
    "def jack_offset_f(vals):\n",
    "    return f_first(vals) * f_second_mod(vals)"
   ]
  },
  {
   "cell_type": "code",
   "execution_count": 54,
   "id": "b6789f80-ddae-4ba9-9d0d-79e43eecdd52",
   "metadata": {},
   "outputs": [],
   "source": [
    "def calc_jack_offset(n, m):\n",
    "    roots = np.roots([1] + [0]*(m-1) + [-1])\n",
    "    \n",
    "    s = np.complex128()\n",
    "    \n",
    "    for x in itertools.product(roots, repeat=n-3):\n",
    "        s += jack_offset_f(x + (np.complex128(1),))\n",
    "    \n",
    "    return (n-1) * s / m ** (n-3)"
   ]
  },
  {
   "cell_type": "code",
   "execution_count": 55,
   "id": "006a59cb-25d2-43ac-9076-240bfb1cb512",
   "metadata": {},
   "outputs": [
    {
     "data": {
      "text/plain": [
       "np.complex128(1015439.999999994-3.883838653564453e-10j)"
      ]
     },
     "execution_count": 55,
     "metadata": {},
     "output_type": "execute_result"
    }
   ],
   "source": [
    "count_cycles(7, 5)"
   ]
  },
  {
   "cell_type": "code",
   "execution_count": 56,
   "id": "8b23acde-558f-4128-81ca-67e8f44f2377",
   "metadata": {},
   "outputs": [
    {
     "data": {
      "text/plain": [
       "np.complex128(156383.9999999999+0j)"
      ]
     },
     "execution_count": 56,
     "metadata": {},
     "output_type": "execute_result"
    }
   ],
   "source": [
    "calc_jack_offset(7, 3)"
   ]
  },
  {
   "cell_type": "code",
   "execution_count": 57,
   "id": "a62dd268-f44b-4fd9-a446-41773cbfab68",
   "metadata": {},
   "outputs": [
    {
     "data": {
      "text/plain": [
       "np.complex128(1015439.999999999-3.768726467922718e-11j)"
      ]
     },
     "execution_count": 57,
     "metadata": {},
     "output_type": "execute_result"
    }
   ],
   "source": [
    "count_cycles(7, 3) - calc_jack_offset(7, 3)"
   ]
  },
  {
   "cell_type": "code",
   "execution_count": 58,
   "id": "377cc903-7c0b-448a-b1a8-5f6ae8035d06",
   "metadata": {},
   "outputs": [
    {
     "data": {
      "text/plain": [
       "156384"
      ]
     },
     "execution_count": 58,
     "metadata": {},
     "output_type": "execute_result"
    }
   ],
   "source": [
    "26064 * 6"
   ]
  },
  {
   "cell_type": "code",
   "execution_count": 318,
   "id": "73bc7f25-e481-4b54-a9c0-0dd47530a165",
   "metadata": {},
   "outputs": [
    {
     "data": {
      "text/plain": [
       "np.complex128(357454162239901.4+0.0069236363636363644j)"
      ]
     },
     "execution_count": 318,
     "metadata": {},
     "output_type": "execute_result"
    }
   ],
   "source": [
    "calc_jack_offset(11, 5)"
   ]
  },
  {
   "cell_type": "code",
   "execution_count": 332,
   "id": "8dc43a09-f512-422b-bb40-f9966bf377c0",
   "metadata": {},
   "outputs": [
    {
     "data": {
      "text/plain": [
       "0"
      ]
     },
     "execution_count": 332,
     "metadata": {},
     "output_type": "execute_result"
    }
   ],
   "source": [
    "357454162240000 + 169107043478365440 - 169464497640605440"
   ]
  },
  {
   "cell_type": "code",
   "execution_count": 265,
   "id": "a79bd763-f348-497e-80e4-dd1245afa51e",
   "metadata": {},
   "outputs": [
    {
     "data": {
      "text/plain": [
       "10.999999999996923"
      ]
     },
     "execution_count": 265,
     "metadata": {},
     "output_type": "execute_result"
    }
   ],
   "source": [
    "39319957846389 / 1117044257 / 2**7 / 5 ** 2"
   ]
  },
  {
   "cell_type": "code",
   "execution_count": null,
   "id": "1f8f6553-5c7d-4457-a69d-f67571af2ab1",
   "metadata": {},
   "outputs": [],
   "source": []
  },
  {
   "cell_type": "code",
   "execution_count": 221,
   "id": "f0bf084c-4452-4630-9405-2f1984791aec",
   "metadata": {
    "collapsed": true,
    "jupyter": {
     "outputs_hidden": true
    }
   },
   "outputs": [
    {
     "ename": "KeyboardInterrupt",
     "evalue": "",
     "output_type": "error",
     "traceback": [
      "\u001b[31m---------------------------------------------------------------------------\u001b[39m",
      "\u001b[31mKeyboardInterrupt\u001b[39m                         Traceback (most recent call last)",
      "\u001b[36mCell\u001b[39m\u001b[36m \u001b[39m\u001b[32mIn[221]\u001b[39m\u001b[32m, line 1\u001b[39m\n\u001b[32m----> \u001b[39m\u001b[32m1\u001b[39m apprx_cycles_11 = \u001b[43mcount_cycles\u001b[49m\u001b[43m(\u001b[49m\u001b[32;43m11\u001b[39;49m\u001b[43m,\u001b[49m\u001b[43m \u001b[49m\u001b[32;43m5\u001b[39;49m\u001b[43m)\u001b[49m\n\u001b[32m      2\u001b[39m apprx_cycles_11\n",
      "\u001b[36mCell\u001b[39m\u001b[36m \u001b[39m\u001b[32mIn[180]\u001b[39m\u001b[32m, line 7\u001b[39m, in \u001b[36mcount_cycles\u001b[39m\u001b[34m(n, m)\u001b[39m\n\u001b[32m      4\u001b[39m s = np.complex128()\n\u001b[32m      6\u001b[39m \u001b[38;5;28;01mfor\u001b[39;00m x \u001b[38;5;129;01min\u001b[39;00m itertools.product(roots, repeat=n-\u001b[32m1\u001b[39m):\n\u001b[32m----> \u001b[39m\u001b[32m7\u001b[39m     s += \u001b[43mf\u001b[49m\u001b[43m(\u001b[49m\u001b[43mx\u001b[49m\u001b[43m \u001b[49m\u001b[43m+\u001b[49m\u001b[43m \u001b[49m\u001b[43m(\u001b[49m\u001b[43mnp\u001b[49m\u001b[43m.\u001b[49m\u001b[43mcomplex128\u001b[49m\u001b[43m(\u001b[49m\u001b[32;43m1\u001b[39;49m\u001b[43m)\u001b[49m\u001b[43m,\u001b[49m\u001b[43m)\u001b[49m\u001b[43m)\u001b[49m\n\u001b[32m      8\u001b[39m \u001b[38;5;66;03m# for x in itertools.product(roots, repeat=n):\u001b[39;00m\n\u001b[32m      9\u001b[39m \u001b[38;5;66;03m#     s += f(x)\u001b[39;00m\n\u001b[32m     10\u001b[39m \n\u001b[32m     11\u001b[39m \u001b[38;5;66;03m# return s / m ** (n)\u001b[39;00m\n\u001b[32m     13\u001b[39m \u001b[38;5;28;01mreturn\u001b[39;00m s / m ** (n-\u001b[32m1\u001b[39m)\n",
      "\u001b[36mCell\u001b[39m\u001b[36m \u001b[39m\u001b[32mIn[119]\u001b[39m\u001b[32m, line 2\u001b[39m, in \u001b[36mf\u001b[39m\u001b[34m(vals)\u001b[39m\n\u001b[32m      1\u001b[39m \u001b[38;5;28;01mdef\u001b[39;00m\u001b[38;5;250m \u001b[39m\u001b[34mf\u001b[39m(vals):\n\u001b[32m----> \u001b[39m\u001b[32m2\u001b[39m     \u001b[38;5;28;01mreturn\u001b[39;00m f_first(vals) * \u001b[43mf_second\u001b[49m\u001b[43m(\u001b[49m\u001b[43mvals\u001b[49m\u001b[43m)\u001b[49m\n",
      "\u001b[36mCell\u001b[39m\u001b[36m \u001b[39m\u001b[32mIn[118]\u001b[39m\u001b[32m, line 7\u001b[39m, in \u001b[36mf_second\u001b[39m\u001b[34m(vals)\u001b[39m\n\u001b[32m      5\u001b[39m         \u001b[38;5;28;01mif\u001b[39;00m j == k:\n\u001b[32m      6\u001b[39m             \u001b[38;5;28;01mcontinue\u001b[39;00m\n\u001b[32m----> \u001b[39m\u001b[32m7\u001b[39m         A[j,k] = -\u001b[32m1\u001b[39m * choose_ij(vals, j, k) / choose_both(vals, j, k)\n\u001b[32m      9\u001b[39m \u001b[38;5;28;01mfor\u001b[39;00m i \u001b[38;5;129;01min\u001b[39;00m \u001b[38;5;28mrange\u001b[39m(\u001b[38;5;28mlen\u001b[39m(vals)):\n\u001b[32m     10\u001b[39m     \u001b[38;5;66;03m# check if this is row or col sum\u001b[39;00m\n\u001b[32m     11\u001b[39m     A[i, i] = -\u001b[32m1\u001b[39m * A[i, :].sum()\n",
      "\u001b[31mKeyboardInterrupt\u001b[39m: "
     ]
    }
   ],
   "source": [
    "apprx_cycles_11 = count_cycles(11, 5)\n",
    "apprx_cycles_11"
   ]
  },
  {
   "cell_type": "code",
   "execution_count": null,
   "id": "e30ea7f7-1632-4831-a1d5-63c73594a9a6",
   "metadata": {},
   "outputs": [],
   "source": [
    "count_cycles(7, 3)"
   ]
  },
  {
   "cell_type": "code",
   "execution_count": 172,
   "id": "2fafc994-9a6c-4a1b-b335-e8c576521a3b",
   "metadata": {},
   "outputs": [
    {
     "data": {
      "text/plain": [
       "np.complex128(11088-1.6842494477276448e-14j)"
      ]
     },
     "execution_count": 172,
     "metadata": {},
     "output_type": "execute_result"
    }
   ],
   "source": [
    "m=6\n",
    "n=7\n",
    "roots = np.roots([1] + [0]*(m-1) + [-1])\n",
    "\n",
    "s = np.complex128()\n",
    "\n",
    "for x in itertools.product(roots, repeat=n-3):\n",
    "    s += jack_offset_f(x + (np.complex128(1),))\n",
    "\n",
    "(n-1)*s / m ** (n-3)"
   ]
  },
  {
   "cell_type": "code",
   "execution_count": 157,
   "id": "88ce11f1-205c-476f-af51-dbe7ed9e0f73",
   "metadata": {},
   "outputs": [
    {
     "data": {
      "text/plain": [
       "77.0"
      ]
     },
     "execution_count": 157,
     "metadata": {},
     "output_type": "execute_result"
    }
   ],
   "source": [
    "11088 / 2**4 / 3**2"
   ]
  },
  {
   "cell_type": "code",
   "execution_count": 227,
   "id": "842e510b-1562-45bf-bc47-6b0c709e06f2",
   "metadata": {},
   "outputs": [
    {
     "data": {
      "text/plain": [
       "357454162240000.0"
      ]
     },
     "execution_count": 227,
     "metadata": {},
     "output_type": "execute_result"
    }
   ],
   "source": [
    "((39319957846389 / 11) + 1) * 10 * 10 "
   ]
  },
  {
   "cell_type": "code",
   "execution_count": 226,
   "id": "b7e6d2b4-e572-4433-b176-ad485d28dc51",
   "metadata": {},
   "outputs": [
    {
     "data": {
      "text/plain": [
       "357454162240000"
      ]
     },
     "execution_count": 226,
     "metadata": {},
     "output_type": "execute_result"
    }
   ],
   "source": [
    "357454162240000"
   ]
  },
  {
   "cell_type": "code",
   "execution_count": null,
   "id": "28505f95-947e-492e-b0cb-2d2e7e61b5be",
   "metadata": {},
   "outputs": [],
   "source": []
  },
  {
   "cell_type": "code",
   "execution_count": null,
   "id": "9900ae0d-b010-462e-8336-935002a941e8",
   "metadata": {},
   "outputs": [],
   "source": []
  },
  {
   "cell_type": "code",
   "execution_count": null,
   "id": "9094e400-7b76-4dd6-a612-10d909eff15c",
   "metadata": {},
   "outputs": [],
   "source": []
  },
  {
   "cell_type": "code",
   "execution_count": null,
   "id": "ffe26309-74e8-4cb5-b94d-5e8cc2511f9b",
   "metadata": {},
   "outputs": [],
   "source": []
  },
  {
   "cell_type": "code",
   "execution_count": null,
   "id": "45b7931b-5ba6-4435-84ae-fcb7e12362d0",
   "metadata": {},
   "outputs": [],
   "source": []
  },
  {
   "cell_type": "code",
   "execution_count": null,
   "id": "5b3ca73e-38fa-4397-987c-e6c829211c19",
   "metadata": {},
   "outputs": [],
   "source": [
    "# def f_fst_mod(vals):\n",
    "#     prod = np.complex128(1)\n",
    "#     for i in range(1, len(vals)):\n",
    "#         prod *= choose_ij(vals, 0, i)\n",
    "    \n",
    "#     for j in range(1, len(vals)):\n",
    "#         for k in range(j+1, len(vals)):\n",
    "#             prod *= choose_both(vals, j, k)\n",
    "\n",
    "    \n",
    "\n",
    "#     return prod"
   ]
  },
  {
   "cell_type": "code",
   "execution_count": null,
   "id": "bb713084-de7a-4210-bd4e-a341ac1f4d93",
   "metadata": {},
   "outputs": [],
   "source": []
  },
  {
   "cell_type": "code",
   "execution_count": 336,
   "id": "1b75f85a-8f8f-4304-a370-1b5837424a4f",
   "metadata": {},
   "outputs": [
    {
     "data": {
      "text/plain": [
       "2214336102503911082"
      ]
     },
     "execution_count": 336,
     "metadata": {},
     "output_type": "execute_result"
    }
   ],
   "source": [
    "(14 * 14 * 169464497640605440 // 15)"
   ]
  },
  {
   "cell_type": "code",
   "execution_count": 337,
   "id": "7a7a998c-b9dd-44a6-9cbc-d6e3d9149e9c",
   "metadata": {},
   "outputs": [
    {
     "data": {
      "text/plain": [
       "-80304592330989250474939826518"
      ]
     },
     "execution_count": 337,
     "metadata": {},
     "output_type": "execute_result"
    }
   ],
   "source": [
    "4435711276305905572695127676467200 - 4435791580898238776281705120204800 + (14 * 14 * 169464497640605440 // 15)"
   ]
  },
  {
   "cell_type": "code",
   "execution_count": 339,
   "id": "6eb15fae-5da1-4641-b754-fe756874706e",
   "metadata": {},
   "outputs": [
    {
     "data": {
      "text/plain": [
       "473872660358.10547"
      ]
     },
     "execution_count": 339,
     "metadata": {},
     "output_type": "execute_result"
    }
   ],
   "source": [
    "(4435791580898238776281705120204800 - 4435711276305905572695127676467200 ) / 169464497640605440"
   ]
  },
  {
   "cell_type": "code",
   "execution_count": null,
   "id": "33ef2ead-f112-442a-98a1-1b9988cf313b",
   "metadata": {},
   "outputs": [],
   "source": []
  }
 ],
 "metadata": {
  "kernelspec": {
   "display_name": "Python 3 (ipykernel)",
   "language": "python",
   "name": "python3"
  },
  "language_info": {
   "codemirror_mode": {
    "name": "ipython",
    "version": 3
   },
   "file_extension": ".py",
   "mimetype": "text/x-python",
   "name": "python",
   "nbconvert_exporter": "python",
   "pygments_lexer": "ipython3",
   "version": "3.12.3"
  }
 },
 "nbformat": 4,
 "nbformat_minor": 5
}
