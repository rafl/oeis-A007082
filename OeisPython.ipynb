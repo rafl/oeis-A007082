{
 "cells": [
  {
   "cell_type": "markdown",
   "id": "8c29ab99-a0f1-42fa-8a40-e4a7a34a658c",
   "metadata": {},
   "source": [
    "# This stuff is the by the book implementation"
   ]
  },
  {
   "cell_type": "code",
   "execution_count": 33,
   "id": "44c7ee59-5dc6-41f4-b085-224ec8e851ce",
   "metadata": {},
   "outputs": [],
   "source": [
    "import numpy as np\n",
    "import itertools\n",
    "import math"
   ]
  },
  {
   "cell_type": "code",
   "execution_count": 34,
   "id": "445f6003-36ff-429c-bcdd-0f87a384902f",
   "metadata": {},
   "outputs": [],
   "source": [
    "np.set_printoptions(linewidth=200)"
   ]
  },
  {
   "cell_type": "code",
   "execution_count": 35,
   "id": "d6c4e397-53f5-4517-a33f-a483ee09359e",
   "metadata": {},
   "outputs": [],
   "source": [
    "def combs_with_multiplicity_recip(vals, n):\n",
    "    if n == 0:\n",
    "        yield (1, [])\n",
    "    elif len(vals) == 1:\n",
    "        yield (math.factorial(n), [vals[0]] * n)\n",
    "    else:\n",
    "        for i in range(0, n+1):\n",
    "            for (rest_recip, rest_vals) in combs_with_multiplicity_recip(vals[1:], n-i):\n",
    "                yield (rest_recip * math.factorial(i), [vals[0]] * i + rest_vals)"
   ]
  },
  {
   "cell_type": "code",
   "execution_count": 36,
   "id": "f3d58d75-ed02-483d-8ab8-dbac279f993f",
   "metadata": {},
   "outputs": [],
   "source": [
    "def combs_with_multiplicity(vals, n):\n",
    "    fact = math.factorial(n)\n",
    "    for recip, vals in combs_with_multiplicity_recip(vals, n):\n",
    "        yield fact // recip, vals"
   ]
  },
  {
   "cell_type": "code",
   "execution_count": 62,
   "id": "224d6cb7-4eea-4b48-a999-42021293523b",
   "metadata": {},
   "outputs": [],
   "source": [
    "def multiplicity_space_combs(m, n):\n",
    "    if n == 0:\n",
    "        yield (0,) * m\n",
    "    elif m == 1:\n",
    "        yield (n,)\n",
    "    else:\n",
    "        for i in range(0, n+1):\n",
    "            for rest_vals in multiplicity_space_combs(m-1, n-i):\n",
    "                yield (i,) + rest_vals"
   ]
  },
  {
   "cell_type": "code",
   "execution_count": 71,
   "id": "b92206f9-1b5b-4fa6-996a-c550f0c83f8c",
   "metadata": {},
   "outputs": [],
   "source": [
    "def replace(tup, idx, val):\n",
    "    return tup[:idx] + (val,) + tup[idx+1:]"
   ]
  },
  {
   "cell_type": "code",
   "execution_count": 80,
   "id": "05f88ab8-2164-4ac2-85cc-d52c9269e1a3",
   "metadata": {},
   "outputs": [],
   "source": [
    "def rot(tup, r):\n",
    "    return tup[r:] + tup[:r]"
   ]
  },
  {
   "cell_type": "code",
   "execution_count": 110,
   "id": "2f3b02bb-3b81-4ac7-8118-f680926af300",
   "metadata": {},
   "outputs": [],
   "source": [
    "def finish_vec(vec, index, n_left, in_limit):    \n",
    "    if n_left == 0:\n",
    "        yield vec\n",
    "        return\n",
    "\n",
    "    if index >= len(vec):\n",
    "        return\n",
    "    \n",
    "    max_val = min(vec[in_limit], n_left)\n",
    "    if index == len(vec) - 1 and in_limit != len(vec) - 2:\n",
    "        max_val = min(max_val, vec[0] - 1)\n",
    "\n",
    "    for res in finish_vec(replace(vec, index, max_val), index+1, n_left - max_val, in_limit+1 if max_val == vec[in_limit] else in_limit):\n",
    "        yield res\n",
    "\n",
    "    for i in range(max_val-1, -1, -1):\n",
    "        for res in finish_vec(replace(vec, index, i), index+1, n_left - i, 0):\n",
    "            yield res"
   ]
  },
  {
   "cell_type": "code",
   "execution_count": 111,
   "id": "a93d78be-a986-4634-9ba8-a66e33308da3",
   "metadata": {},
   "outputs": [],
   "source": [
    "def multiplicity_space_necklaces(m, n):\n",
    "    for i in range(n, 0, -1):\n",
    "        for res in finish_vec((i,) + (0,) * (m-1), 1, n-i, 0):\n",
    "            yield res"
   ]
  },
  {
   "cell_type": "code",
   "execution_count": 118,
   "id": "5f19ab17-5883-422d-90be-85203feaaaef",
   "metadata": {},
   "outputs": [],
   "source": [
    "def check_no_dups(necklaces, m):\n",
    "    stuff = set(necklaces)\n",
    "    for i in range(1, m):\n",
    "        for nl in necklaces:\n",
    "            rot_val = rot(nl, i)\n",
    "            if rot_val in stuff:\n",
    "                assert rot_val == nl, f\"{rot_val} is in stuff and so is {nl}\""
   ]
  },
  {
   "cell_type": "code",
   "execution_count": 119,
   "id": "73dc6a52-b378-49e6-92e6-8aafe851e7aa",
   "metadata": {},
   "outputs": [],
   "source": [
    "def get_all_rotations(necklaces, m):\n",
    "    stuff = set(necklaces)\n",
    "    for i in range(1, m):\n",
    "        for nl in necklaces:\n",
    "            rot_val = rot(nl, i)\n",
    "            stuff.add(rot_val)\n",
    "\n",
    "    return stuff"
   ]
  },
  {
   "cell_type": "code",
   "execution_count": 120,
   "id": "fb95c681-2185-4da4-af4a-2f54ebf19ccc",
   "metadata": {},
   "outputs": [],
   "source": [
    "def test_case(m, n):\n",
    "    necklaces = list(multiplicity_space_necklaces(m, n))\n",
    "    check_no_dups(necklaces, m)\n",
    "    assert get_all_rotations(necklaces, m) == set(multiplicity_space_combs(m, n))"
   ]
  },
  {
   "cell_type": "code",
   "execution_count": 121,
   "id": "39d0980c-1ea3-42d9-a986-b94981c5b30c",
   "metadata": {},
   "outputs": [
    {
     "ename": "AssertionError",
     "evalue": "(4, 0, 1, 0, 0, 4, 0) is in stuff and so is (4, 0, 4, 0, 1, 0, 0)",
     "output_type": "error",
     "traceback": [
      "\u001b[31m---------------------------------------------------------------------------\u001b[39m",
      "\u001b[31mAssertionError\u001b[39m                            Traceback (most recent call last)",
      "\u001b[36mCell\u001b[39m\u001b[36m \u001b[39m\u001b[32mIn[121]\u001b[39m\u001b[32m, line 1\u001b[39m\n\u001b[32m----> \u001b[39m\u001b[32m1\u001b[39m \u001b[43mtest_case\u001b[49m\u001b[43m(\u001b[49m\u001b[32;43m7\u001b[39;49m\u001b[43m,\u001b[49m\u001b[43m \u001b[49m\u001b[32;43m9\u001b[39;49m\u001b[43m)\u001b[49m\n",
      "\u001b[36mCell\u001b[39m\u001b[36m \u001b[39m\u001b[32mIn[120]\u001b[39m\u001b[32m, line 3\u001b[39m, in \u001b[36mtest_case\u001b[39m\u001b[34m(m, n)\u001b[39m\n\u001b[32m      1\u001b[39m \u001b[38;5;28;01mdef\u001b[39;00m\u001b[38;5;250m \u001b[39m\u001b[34mtest_case\u001b[39m(m, n):\n\u001b[32m      2\u001b[39m     necklaces = \u001b[38;5;28mlist\u001b[39m(multiplicity_space_necklaces(m, n))\n\u001b[32m----> \u001b[39m\u001b[32m3\u001b[39m     \u001b[43mcheck_no_dups\u001b[49m\u001b[43m(\u001b[49m\u001b[43mnecklaces\u001b[49m\u001b[43m,\u001b[49m\u001b[43m \u001b[49m\u001b[43mm\u001b[49m\u001b[43m)\u001b[49m\n\u001b[32m      4\u001b[39m     \u001b[38;5;28;01massert\u001b[39;00m get_all_rotations(necklaces, m) == \u001b[38;5;28mset\u001b[39m(multiplicity_space_combs(m, n))\n",
      "\u001b[36mCell\u001b[39m\u001b[36m \u001b[39m\u001b[32mIn[118]\u001b[39m\u001b[32m, line 7\u001b[39m, in \u001b[36mcheck_no_dups\u001b[39m\u001b[34m(necklaces, m)\u001b[39m\n\u001b[32m      5\u001b[39m rot_val = rot(nl, i)\n\u001b[32m      6\u001b[39m \u001b[38;5;28;01mif\u001b[39;00m rot_val \u001b[38;5;129;01min\u001b[39;00m stuff:\n\u001b[32m----> \u001b[39m\u001b[32m7\u001b[39m     \u001b[38;5;28;01massert\u001b[39;00m rot_val == nl, \u001b[33mf\u001b[39m\u001b[33m\"\u001b[39m\u001b[38;5;132;01m{\u001b[39;00mrot_val\u001b[38;5;132;01m}\u001b[39;00m\u001b[33m is in stuff and so is \u001b[39m\u001b[38;5;132;01m{\u001b[39;00mnl\u001b[38;5;132;01m}\u001b[39;00m\u001b[33m\"\u001b[39m\n",
      "\u001b[31mAssertionError\u001b[39m: (4, 0, 1, 0, 0, 4, 0) is in stuff and so is (4, 0, 4, 0, 1, 0, 0)"
     ]
    }
   ],
   "source": [
    "test_case(7, 9)"
   ]
  },
  {
   "cell_type": "code",
   "execution_count": 75,
   "id": "5a5dfbcf-2da0-48dd-89de-0117529fa389",
   "metadata": {},
   "outputs": [
    {
     "data": {
      "text/plain": [
       "[(9, 0, 0),\n",
       " (8, 1, 0),\n",
       " (8, 0, 1),\n",
       " (7, 2, 0),\n",
       " (7, 1, 1),\n",
       " (7, 0, 2),\n",
       " (6, 3, 0),\n",
       " (6, 2, 1),\n",
       " (6, 1, 2),\n",
       " (6, 0, 3),\n",
       " (5, 4, 0),\n",
       " (5, 3, 1),\n",
       " (5, 2, 2),\n",
       " (5, 1, 3),\n",
       " (5, 0, 4),\n",
       " (4, 4, 1),\n",
       " (4, 3, 2),\n",
       " (4, 2, 3),\n",
       " (3, 3, 3)]"
      ]
     },
     "execution_count": 75,
     "metadata": {},
     "output_type": "execute_result"
    }
   ],
   "source": [
    "[x for x in multiplicity_space_necklaces(3, 9)]"
   ]
  },
  {
   "cell_type": "code",
   "execution_count": 66,
   "id": "887672b3-c891-467a-bbe7-3ad9ee62462f",
   "metadata": {},
   "outputs": [
    {
     "data": {
      "text/plain": [
       "[(0, 0, 9),\n",
       " (0, 1, 8),\n",
       " (0, 2, 7),\n",
       " (0, 3, 6),\n",
       " (0, 4, 5),\n",
       " (0, 5, 4),\n",
       " (0, 6, 3),\n",
       " (0, 7, 2),\n",
       " (0, 8, 1),\n",
       " (0, 9, 0),\n",
       " (1, 0, 8),\n",
       " (1, 1, 7),\n",
       " (1, 2, 6),\n",
       " (1, 3, 5),\n",
       " (1, 4, 4),\n",
       " (1, 5, 3),\n",
       " (1, 6, 2),\n",
       " (1, 7, 1),\n",
       " (1, 8, 0),\n",
       " (2, 0, 7),\n",
       " (2, 1, 6),\n",
       " (2, 2, 5),\n",
       " (2, 3, 4),\n",
       " (2, 4, 3),\n",
       " (2, 5, 2),\n",
       " (2, 6, 1),\n",
       " (2, 7, 0),\n",
       " (3, 0, 6),\n",
       " (3, 1, 5),\n",
       " (3, 2, 4),\n",
       " (3, 3, 3),\n",
       " (3, 4, 2),\n",
       " (3, 5, 1),\n",
       " (3, 6, 0),\n",
       " (4, 0, 5),\n",
       " (4, 1, 4),\n",
       " (4, 2, 3),\n",
       " (4, 3, 2),\n",
       " (4, 4, 1),\n",
       " (4, 5, 0),\n",
       " (5, 0, 4),\n",
       " (5, 1, 3),\n",
       " (5, 2, 2),\n",
       " (5, 3, 1),\n",
       " (5, 4, 0),\n",
       " (6, 0, 3),\n",
       " (6, 1, 2),\n",
       " (6, 2, 1),\n",
       " (6, 3, 0),\n",
       " (7, 0, 2),\n",
       " (7, 1, 1),\n",
       " (7, 2, 0),\n",
       " (8, 0, 1),\n",
       " (8, 1, 0),\n",
       " (9, 0, 0)]"
      ]
     },
     "execution_count": 66,
     "metadata": {},
     "output_type": "execute_result"
    }
   ],
   "source": [
    "[x for x in multiplicity_space_combs(3, 9)]"
   ]
  },
  {
   "cell_type": "code",
   "execution_count": 37,
   "id": "3b1f3afc-125b-4ccb-88ac-1fcaa25e268e",
   "metadata": {},
   "outputs": [
    {
     "data": {
      "text/plain": [
       "55"
      ]
     },
     "execution_count": 37,
     "metadata": {},
     "output_type": "execute_result"
    }
   ],
   "source": [
    "len([x for x in combs_with_multiplicity([0, 1, 2], 9)])"
   ]
  },
  {
   "cell_type": "code",
   "execution_count": 43,
   "id": "d240fb0a-8603-4e1b-bf69-60587853dfa1",
   "metadata": {},
   "outputs": [
    {
     "data": {
      "text/plain": [
       "[[9, 0, 0],\n",
       " [8, 1, 0],\n",
       " [8, 0, 1],\n",
       " [7, 2, 0],\n",
       " [7, 1, 1],\n",
       " [7, 0, 2],\n",
       " [6, 3, 0],\n",
       " [6, 2, 1],\n",
       " [6, 1, 2],\n",
       " [6, 0, 3],\n",
       " [5, 4, 0],\n",
       " [5, 3, 1],\n",
       " [5, 2, 2],\n",
       " [5, 1, 3],\n",
       " [5, 0, 4],\n",
       " [4, 4, 1],\n",
       " [4, 3, 2],\n",
       " [4, 2, 3],\n",
       " [3, 3, 3]]"
      ]
     },
     "execution_count": 43,
     "metadata": {},
     "output_type": "execute_result"
    }
   ],
   "source": [
    "[x for x in multiplicity_space_necklaces(3, 9)]"
   ]
  },
  {
   "cell_type": "code",
   "execution_count": 38,
   "id": "0fe3c33e-5b8b-487f-ac7a-50b4b804f563",
   "metadata": {},
   "outputs": [
    {
     "data": {
      "text/plain": [
       "[(1, [2, 2, 2, 2, 2, 2, 2, 2, 2]),\n",
       " (9, [1, 2, 2, 2, 2, 2, 2, 2, 2]),\n",
       " (36, [1, 1, 2, 2, 2, 2, 2, 2, 2]),\n",
       " (84, [1, 1, 1, 2, 2, 2, 2, 2, 2]),\n",
       " (126, [1, 1, 1, 1, 2, 2, 2, 2, 2]),\n",
       " (126, [1, 1, 1, 1, 1, 2, 2, 2, 2]),\n",
       " (84, [1, 1, 1, 1, 1, 1, 2, 2, 2]),\n",
       " (36, [1, 1, 1, 1, 1, 1, 1, 2, 2]),\n",
       " (9, [1, 1, 1, 1, 1, 1, 1, 1, 2]),\n",
       " (1, [1, 1, 1, 1, 1, 1, 1, 1, 1]),\n",
       " (9, [0, 2, 2, 2, 2, 2, 2, 2, 2]),\n",
       " (72, [0, 1, 2, 2, 2, 2, 2, 2, 2]),\n",
       " (252, [0, 1, 1, 2, 2, 2, 2, 2, 2]),\n",
       " (504, [0, 1, 1, 1, 2, 2, 2, 2, 2]),\n",
       " (630, [0, 1, 1, 1, 1, 2, 2, 2, 2]),\n",
       " (504, [0, 1, 1, 1, 1, 1, 2, 2, 2]),\n",
       " (252, [0, 1, 1, 1, 1, 1, 1, 2, 2]),\n",
       " (72, [0, 1, 1, 1, 1, 1, 1, 1, 2]),\n",
       " (9, [0, 1, 1, 1, 1, 1, 1, 1, 1]),\n",
       " (36, [0, 0, 2, 2, 2, 2, 2, 2, 2]),\n",
       " (252, [0, 0, 1, 2, 2, 2, 2, 2, 2]),\n",
       " (756, [0, 0, 1, 1, 2, 2, 2, 2, 2]),\n",
       " (1260, [0, 0, 1, 1, 1, 2, 2, 2, 2]),\n",
       " (1260, [0, 0, 1, 1, 1, 1, 2, 2, 2]),\n",
       " (756, [0, 0, 1, 1, 1, 1, 1, 2, 2]),\n",
       " (252, [0, 0, 1, 1, 1, 1, 1, 1, 2]),\n",
       " (36, [0, 0, 1, 1, 1, 1, 1, 1, 1]),\n",
       " (84, [0, 0, 0, 2, 2, 2, 2, 2, 2]),\n",
       " (504, [0, 0, 0, 1, 2, 2, 2, 2, 2]),\n",
       " (1260, [0, 0, 0, 1, 1, 2, 2, 2, 2]),\n",
       " (1680, [0, 0, 0, 1, 1, 1, 2, 2, 2]),\n",
       " (1260, [0, 0, 0, 1, 1, 1, 1, 2, 2]),\n",
       " (504, [0, 0, 0, 1, 1, 1, 1, 1, 2]),\n",
       " (84, [0, 0, 0, 1, 1, 1, 1, 1, 1]),\n",
       " (126, [0, 0, 0, 0, 2, 2, 2, 2, 2]),\n",
       " (630, [0, 0, 0, 0, 1, 2, 2, 2, 2]),\n",
       " (1260, [0, 0, 0, 0, 1, 1, 2, 2, 2]),\n",
       " (1260, [0, 0, 0, 0, 1, 1, 1, 2, 2]),\n",
       " (630, [0, 0, 0, 0, 1, 1, 1, 1, 2]),\n",
       " (126, [0, 0, 0, 0, 1, 1, 1, 1, 1]),\n",
       " (126, [0, 0, 0, 0, 0, 2, 2, 2, 2]),\n",
       " (504, [0, 0, 0, 0, 0, 1, 2, 2, 2]),\n",
       " (756, [0, 0, 0, 0, 0, 1, 1, 2, 2]),\n",
       " (504, [0, 0, 0, 0, 0, 1, 1, 1, 2]),\n",
       " (126, [0, 0, 0, 0, 0, 1, 1, 1, 1]),\n",
       " (84, [0, 0, 0, 0, 0, 0, 2, 2, 2]),\n",
       " (252, [0, 0, 0, 0, 0, 0, 1, 2, 2]),\n",
       " (252, [0, 0, 0, 0, 0, 0, 1, 1, 2]),\n",
       " (84, [0, 0, 0, 0, 0, 0, 1, 1, 1]),\n",
       " (36, [0, 0, 0, 0, 0, 0, 0, 2, 2]),\n",
       " (72, [0, 0, 0, 0, 0, 0, 0, 1, 2]),\n",
       " (36, [0, 0, 0, 0, 0, 0, 0, 1, 1]),\n",
       " (9, [0, 0, 0, 0, 0, 0, 0, 0, 2]),\n",
       " (9, [0, 0, 0, 0, 0, 0, 0, 0, 1]),\n",
       " (1, [0, 0, 0, 0, 0, 0, 0, 0, 0])]"
      ]
     },
     "execution_count": 38,
     "metadata": {},
     "output_type": "execute_result"
    }
   ],
   "source": [
    "[x for x in combs_with_multiplicity([0, 1, 2], 9)]"
   ]
  },
  {
   "cell_type": "code",
   "execution_count": 8,
   "id": "a1559046-dd4c-4990-9b54-b65ca491f08d",
   "metadata": {},
   "outputs": [],
   "source": [
    "def make_roots(m):\n",
    "    return np.roots([1] + [0]*(m-1) + [-1])"
   ]
  },
  {
   "cell_type": "code",
   "execution_count": 6,
   "id": "3f9caa3e-88db-4148-bdbb-6de47e86b6a0",
   "metadata": {},
   "outputs": [],
   "source": [
    "def choose_ij(vals, i, j):\n",
    "    return vals[i] / vals[j]"
   ]
  },
  {
   "cell_type": "code",
   "execution_count": 31,
   "id": "f5b46226-d5a4-40ea-beaa-a55f3dfffae3",
   "metadata": {},
   "outputs": [
    {
     "data": {
      "text/plain": [
       "array([-0.80901699+0.58778525j, -0.80901699-0.58778525j,  0.30901699+0.95105652j,  0.30901699-0.95105652j,  1.        +0.j        ])"
      ]
     },
     "execution_count": 31,
     "metadata": {},
     "output_type": "execute_result"
    }
   ],
   "source": [
    "roots"
   ]
  },
  {
   "cell_type": "code",
   "execution_count": 9,
   "id": "7edcf07e-dc1e-4fe0-bca7-9308ca2c119c",
   "metadata": {},
   "outputs": [],
   "source": [
    "roots = make_roots(5)"
   ]
  },
  {
   "cell_type": "code",
   "execution_count": 21,
   "id": "12e1f4c5-0b9d-49a7-ab5f-45fb613ea886",
   "metadata": {},
   "outputs": [],
   "source": [
    "lookup = np.array([choose_both(roots, 0, i) for i in range (0, 5)])"
   ]
  },
  {
   "cell_type": "code",
   "execution_count": 29,
   "id": "9d59f4ce-4f1d-4389-a605-a327eb6bf2ac",
   "metadata": {},
   "outputs": [
    {
     "data": {
      "text/plain": [
       "array([ 2.        -0.00000000e+00j,  0.61803399+0.00000000e+00j,  0.61803399-9.99200722e-16j, -1.61803399+6.66133815e-16j, -1.61803399-4.44089210e-16j])"
      ]
     },
     "execution_count": 29,
     "metadata": {},
     "output_type": "execute_result"
    }
   ],
   "source": [
    "lookup"
   ]
  },
  {
   "cell_type": "code",
   "execution_count": 24,
   "id": "695d0ca7-a33b-4948-816d-704b6ff822da",
   "metadata": {},
   "outputs": [],
   "source": [
    "import matplotlib.pyplot as plt"
   ]
  },
  {
   "cell_type": "code",
   "execution_count": 28,
   "id": "73de9cb7-7faa-4e32-accc-09904c1675aa",
   "metadata": {},
   "outputs": [
    {
     "data": {
      "text/plain": [
       "<matplotlib.collections.PathCollection at 0x7fd3b2cc65a0>"
      ]
     },
     "execution_count": 28,
     "metadata": {},
     "output_type": "execute_result"
    },
    {
     "data": {
      "image/png": "[encoded data removed]",
      "text/plain": [
       "<Figure size 640x480 with 1 Axes>"
      ]
     },
     "metadata": {},
     "output_type": "display_data"
    }
   ],
   "source": [
    "plt.scatter(np.real(lookup), np.imag(lookup))"
   ]
  },
  {
   "cell_type": "code",
   "execution_count": 22,
   "id": "b72c070c-5b17-4977-a5e0-9b6b8082535a",
   "metadata": {},
   "outputs": [
    {
     "data": {
      "text/plain": [
       "np.complex128(8.881784197001252e-16-7.771561172376096e-16j)"
      ]
     },
     "execution_count": 22,
     "metadata": {},
     "output_type": "execute_result"
    }
   ],
   "source": [
    "sum(lookup)"
   ]
  },
  {
   "cell_type": "code",
   "execution_count": 23,
   "id": "7e43397d-2973-4b5b-940f-7ebedb9e5457",
   "metadata": {},
   "outputs": [
    {
     "data": {
      "text/plain": [
       "array([2.        , 0.61803399, 0.61803399, 1.61803399, 1.61803399])"
      ]
     },
     "execution_count": 23,
     "metadata": {},
     "output_type": "execute_result"
    }
   ],
   "source": [
    "np.abs(np.array(lookup))"
   ]
  },
  {
   "cell_type": "code",
   "execution_count": 13,
   "id": "b0bd5468-a430-440a-b691-98e613a295c3",
   "metadata": {},
   "outputs": [
    {
     "data": {
      "text/plain": [
       "[np.complex128(-0.8090169943749481-0.5877852522924731j),\n",
       " np.complex128(0.3090169943749464+0.9510565162951544j),\n",
       " np.complex128(0.9999999999999997+2.639712105276675e-16j),\n",
       " np.complex128(0.30901699437494784-0.951056516295153j),\n",
       " np.complex128(-0.8090169943749477+0.5877852522924727j)]"
      ]
     },
     "execution_count": 13,
     "metadata": {},
     "output_type": "execute_result"
    }
   ],
   "source": [
    "[v / r for v, r in zip([choose_ij(roots, 0, i) for i in range (0, 5)], roots)]"
   ]
  },
  {
   "cell_type": "code",
   "execution_count": 18,
   "id": "79f8f888-8927-48bd-8879-68cbbbaac54d",
   "metadata": {},
   "outputs": [],
   "source": [
    "def choose_both(vals, i, j):\n",
    "    return choose_ij(vals, i, j) + choose_ij(vals, j, i)"
   ]
  },
  {
   "cell_type": "code",
   "execution_count": 48,
   "id": "ce1d57cb-afa7-49e0-9ef8-7cdbb9202166",
   "metadata": {},
   "outputs": [],
   "source": [
    "def f_first(vals):\n",
    "    prod = np.complex128(1)\n",
    "    for j in range(len(vals)):\n",
    "        for k in range(j+1, len(vals)):\n",
    "            prod *= choose_both(vals, j, k)\n",
    "\n",
    "    return prod"
   ]
  },
  {
   "cell_type": "code",
   "execution_count": 55,
   "id": "0f15aa2c-6d0e-4f21-abdb-203cfc883377",
   "metadata": {},
   "outputs": [],
   "source": [
    "def f_second(vals):\n",
    "    A = np.zeros([len(vals), len(vals)], dtype=np.complex128)\n",
    "    for j in range(len(vals)):\n",
    "        for k in range(len(vals)):\n",
    "            if j == k:\n",
    "                continue\n",
    "            A[j,k] = -1 * choose_ij(vals, j, k) / choose_both(vals, j, k)\n",
    "\n",
    "    for i in range(len(vals)):\n",
    "        # check if this is row or col sum\n",
    "        A[i, i] = -1 * A[i, :].sum()\n",
    "\n",
    "    return np.linalg.det(A[:-1, :-1])"
   ]
  },
  {
   "cell_type": "code",
   "execution_count": 56,
   "id": "c3aca034-ccd2-4b07-9112-99ce214de405",
   "metadata": {},
   "outputs": [],
   "source": [
    "def f(vals):\n",
    "    return f_first(vals) * f_second(vals)"
   ]
  },
  {
   "cell_type": "code",
   "execution_count": 57,
   "id": "4c03c844-5de1-4e4a-882c-d39f9123ddf9",
   "metadata": {},
   "outputs": [],
   "source": [
    "def count_cycles(n, m):\n",
    "    roots = np.roots([1] + [0]*(m-1) + [-1])\n",
    "\n",
    "    s = np.complex128()\n",
    "\n",
    "    for mult, x in combs_with_multiplicity(roots, n-1):\n",
    "        s += mult*f(x + [np.complex128(1)])\n",
    "    \n",
    "    return s / m ** (n-1)"
   ]
  },
  {
   "cell_type": "code",
   "execution_count": 58,
   "id": "00714cbd-ad33-4c50-8cab-383adc0441dc",
   "metadata": {},
   "outputs": [
    {
     "data": {
      "text/plain": [
       "np.complex128(1015440.0000000041+1.4495849609374998e-10j)"
      ]
     },
     "execution_count": 58,
     "metadata": {},
     "output_type": "execute_result"
    }
   ],
   "source": [
    "# Example usage:\n",
    "count_cycles(7, 5)"
   ]
  },
  {
   "cell_type": "markdown",
   "id": "c4907eb9-a8e5-4d6e-9181-593d5f98df7a",
   "metadata": {},
   "source": [
    "# Jack Offset code"
   ]
  },
  {
   "cell_type": "code",
   "execution_count": null,
   "id": "2492e363-a126-4c06-b7ad-43e6966a62f0",
   "metadata": {},
   "outputs": [],
   "source": [
    "# So - our calculation has given us both the constant term - and also the terms where the exponents are all in {0, -6, 6}\n",
    "# The exponents of the x_i are calculating the \"net out degree\". So note that the only vertex that can have net out degree is the root vertex of our tree - v_n\n",
    "# Note also that the total degree of each term is zero. So therefore these terms must all be of the form x_i^6*x_n*-6 - i!= n\n",
    "# We could try and calculate this term directly (and multiply by n-1 for the n-1 choices for i at the end)\n",
    "# Wlog take i = n-1\n",
    "# We want to force our graph to have directed edges E_n-1,i and E_i,n. \n",
    "# So we can take an adjusted f_first with all these coefficients\n",
    "# Then in our matrix we could fill things as normal but put a zero if E_i,n-1 or E_n,i is in the tree, and put a 1 where E_n-1,i or E_i,n in the tree\n",
    "# This also lets us factor x_i, x_n out of our formula. Taking these two out both adds and removes 1 from each degree putting us back where we started"
   ]
  },
  {
   "cell_type": "code",
   "execution_count": 137,
   "id": "57ae0a52-1b8a-4c99-b43a-309cdff1201f",
   "metadata": {},
   "outputs": [],
   "source": [
    "def f_second_mod(vals):\n",
    "    n = len(vals)+2\n",
    "    A = np.zeros([n, n], dtype=np.complex128)\n",
    "    for j in range(len(vals)):\n",
    "        for k in range(len(vals)):\n",
    "            if j == k:\n",
    "                continue\n",
    "            A[j,k] = -1 * choose_ij(vals, j, k) / choose_both(vals, j, k)\n",
    "\n",
    "    for i in range(n):\n",
    "        # if i != n-1:\n",
    "        A[i, n-1] = -1\n",
    "        A[n-1, i] = 0\n",
    "\n",
    "        if i != n-2:\n",
    "            A[i, n-2] = 0\n",
    "            A[n-2, i] = -1\n",
    "\n",
    "    for i in range(len(vals)+2):\n",
    "        A[i, i] = -1 * A[i, :].sum()\n",
    "\n",
    "    # return A\n",
    "\n",
    "    return np.linalg.det(A[:-1, :-1])"
   ]
  },
  {
   "cell_type": "code",
   "execution_count": 141,
   "id": "66075572-5783-49d3-93e4-7196937515bc",
   "metadata": {},
   "outputs": [],
   "source": [
    "w = roots[0]\n",
    "w2 = roots[1]"
   ]
  },
  {
   "cell_type": "code",
   "execution_count": 142,
   "id": "f0f4325b-9d2b-4ee3-b811-7a696cd5273b",
   "metadata": {},
   "outputs": [
    {
     "data": {
      "text/plain": [
       "np.complex128(1220.9999999999998-109.11920087683887j)"
      ]
     },
     "execution_count": 142,
     "metadata": {},
     "output_type": "execute_result"
    }
   ],
   "source": [
    "f_second_mod([1, w, w, w, w])"
   ]
  },
  {
   "cell_type": "code",
   "execution_count": 143,
   "id": "ebc4c000-4f9d-4a6e-b6ea-6c22ebf53414",
   "metadata": {},
   "outputs": [
    {
     "data": {
      "text/plain": [
       "np.complex128(1220.9999999999995-109.11920087683924j)"
      ]
     },
     "execution_count": 143,
     "metadata": {},
     "output_type": "execute_result"
    }
   ],
   "source": [
    "f_second_mod([w, w2, w2, w2, w2])"
   ]
  },
  {
   "cell_type": "code",
   "execution_count": 132,
   "id": "413d787e-4575-455f-a599-8c3af32e0fab",
   "metadata": {},
   "outputs": [],
   "source": [
    "def jack_offset_f(vals):\n",
    "    return f_first(vals) * f_second_mod(vals)"
   ]
  },
  {
   "cell_type": "code",
   "execution_count": 133,
   "id": "b6789f80-ddae-4ba9-9d0d-79e43eecdd52",
   "metadata": {},
   "outputs": [],
   "source": [
    "def calc_jack_offset(n, m):\n",
    "    roots = np.roots([1] + [0]*(m-1) + [-1])\n",
    "    \n",
    "    s = np.complex128()\n",
    "    \n",
    "    for x in itertools.product(roots, repeat=n-3):\n",
    "        s += jack_offset_f(x + (np.complex128(1),))\n",
    "    \n",
    "    return (n-1) * s / m ** (n-3)"
   ]
  },
  {
   "cell_type": "code",
   "execution_count": 134,
   "id": "a7997773-87bf-4d1d-a8fd-4b186075a5b3",
   "metadata": {},
   "outputs": [
    {
     "data": {
      "text/plain": [
       "np.complex128(1015439.999999999-3.768726467922718e-11j)"
      ]
     },
     "execution_count": 134,
     "metadata": {},
     "output_type": "execute_result"
    }
   ],
   "source": [
    "# example usage - note only works for n%4=-1\n",
    "count_cycles(7, 3) - calc_jack_offset(7, 3)"
   ]
  },
  {
   "cell_type": "code",
   "execution_count": 135,
   "id": "c1104f1e-b455-4bf1-9b0f-660a6fa2c449",
   "metadata": {},
   "outputs": [
    {
     "data": {
      "text/plain": [
       "np.complex128(156383.9999999999+0j)"
      ]
     },
     "execution_count": 135,
     "metadata": {},
     "output_type": "execute_result"
    }
   ],
   "source": [
    "calc_jack_offset(7, 3)"
   ]
  },
  {
   "cell_type": "code",
   "execution_count": 136,
   "id": "c882e2f8-20b9-409e-968d-44e105eed0e2",
   "metadata": {},
   "outputs": [
    {
     "data": {
      "text/plain": [
       "6.0"
      ]
     },
     "execution_count": 136,
     "metadata": {},
     "output_type": "execute_result"
    }
   ],
   "source": [
    "156384 / 26064"
   ]
  },
  {
   "cell_type": "markdown",
   "id": "19b90acb-8036-4a43-95d2-7151b9322111",
   "metadata": {},
   "source": [
    "# Jack Vertex Fix"
   ]
  },
  {
   "cell_type": "code",
   "execution_count": 92,
   "id": "8287f45d-99c3-4f11-8bc0-5723495a2856",
   "metadata": {},
   "outputs": [],
   "source": [
    "def f_first_restricted(vals, forced_values: dict[dict[bool]]):\n",
    "    prod = np.complex128(1)\n",
    "    for j in range(len(vals)):\n",
    "        for k in range(j+1, len(vals)):\n",
    "            if j in forced_values or k in forced_values:\n",
    "                continue\n",
    "            else:\n",
    "                prod *= choose_both(vals, j, k)\n",
    "\n",
    "    for f_vals in forced_values.values():\n",
    "        for second_vertex, points_to_second in f_vals.items():\n",
    "            if points_to_second:\n",
    "                prod /= vals[second_vertex]\n",
    "            else:\n",
    "                prod *= vals[second_vertex]\n",
    "\n",
    "    return prod"
   ]
  },
  {
   "cell_type": "code",
   "execution_count": 32,
   "id": "8039a8b5-a3e8-4808-992c-31ec2f02072c",
   "metadata": {},
   "outputs": [],
   "source": [
    "def f_second_restricted(vals, forced_values: dict[dict[bool]]):\n",
    "    n = len(vals)\n",
    "    A = np.zeros([n, n], dtype=np.complex128)\n",
    "    for j in range(len(vals)):\n",
    "        for k in range(len(vals)):\n",
    "            if j == k:\n",
    "                continue\n",
    "\n",
    "            if j in forced_values or k in forced_values:\n",
    "                continue\n",
    "\n",
    "            A[j,k] = -1 * choose_ij(vals, j, k) / choose_both(vals, j, k)\n",
    "\n",
    "    for first_vertex, dirs in forced_values.items():\n",
    "        for second_vertex, points_to_second in dirs.items():\n",
    "            A[first_vertex, second_vertex] = -int(points_to_second)\n",
    "            A[second_vertex, first_vertex] = -int(not points_to_second)\n",
    "                \n",
    "    for i in range(n):\n",
    "        # check if this is row or col sum\n",
    "        A[i, i] = -1 * A[i, :].sum()\n",
    "\n",
    "    # return A\n",
    "    \n",
    "    return np.linalg.det(A[:-1, :-1])"
   ]
  },
  {
   "cell_type": "code",
   "execution_count": 33,
   "id": "431fe49b-0dba-4747-afda-cef7264b9a7e",
   "metadata": {},
   "outputs": [],
   "source": [
    "m = 3\n",
    "roots = np.roots([1] + [0]*(m-1) + [-1])\n",
    "w = roots[1]"
   ]
  },
  {
   "cell_type": "code",
   "execution_count": 34,
   "id": "24e727af-5fd6-4ab6-8644-6f523ad374ba",
   "metadata": {},
   "outputs": [
    {
     "data": {
      "text/plain": [
       "np.complex128(-2.2499999999999916-3.8971143170299682j)"
      ]
     },
     "execution_count": 34,
     "metadata": {},
     "output_type": "execute_result"
    }
   ],
   "source": [
    "f_second_restricted([w, w, w*w, w*w, 1], {0: {1: True, 2: True, 3:False, 4:False}})"
   ]
  },
  {
   "cell_type": "code",
   "execution_count": 35,
   "id": "b95f34a3-14e4-446a-84fb-36c6f7b10a88",
   "metadata": {},
   "outputs": [
    {
     "data": {
      "text/plain": [
       "np.complex128(6.538073133704127e-15+6.928203230275519j)"
      ]
     },
     "execution_count": 35,
     "metadata": {},
     "output_type": "execute_result"
    }
   ],
   "source": [
    "f_second_restricted([w*w, w, w, w*w, 1], {0: {1: True, 2: True, 3:False, 4:False}})"
   ]
  },
  {
   "cell_type": "code",
   "execution_count": 94,
   "id": "e074c6a6-67aa-4068-89e8-ec3327be252f",
   "metadata": {},
   "outputs": [],
   "source": [
    "def f_restricted(vals, forced_values: dict[dict[bool]]):\n",
    "    return f_first_restricted(vals, forced_values) * f_second_restricted(vals, forced_values)"
   ]
  },
  {
   "cell_type": "code",
   "execution_count": 98,
   "id": "caa59a4b-c8d8-4f48-9daf-b6339d15c5b5",
   "metadata": {},
   "outputs": [],
   "source": [
    "def calculate_efficient(n, m, forcings):\n",
    "    # n = 7\n",
    "    # m = 5\n",
    "    roots = np.roots([1] + [0]*(m-1) + [-1])\n",
    "    \n",
    "    # hardcodes = \n",
    "    \n",
    "    s = np.complex128()\n",
    "    \n",
    "    for x in itertools.product(roots, repeat=n-len(forcings)-1):\n",
    "        s += f_restricted((1,) + x + (np.complex128(1),), forcings)\n",
    "    \n",
    "    return s * math.comb(n-1, (n-1)//2) / m ** (n-2)"
   ]
  },
  {
   "cell_type": "code",
   "execution_count": 99,
   "id": "30c35cbc-6eb9-4b52-b074-66d4d0f43706",
   "metadata": {},
   "outputs": [
    {
     "data": {
      "text/plain": [
       "np.complex128(1015440.000000001-2.9802322387695314e-12j)"
      ]
     },
     "execution_count": 99,
     "metadata": {},
     "output_type": "execute_result"
    }
   ],
   "source": [
    "calculate_efficient(7, 5, {0: {1: True, 2: True, 3:True, 4:False, 5:False, 6:False}})"
   ]
  },
  {
   "cell_type": "markdown",
   "id": "adf512fd-bae4-47c1-b6cf-9ffc55757d66",
   "metadata": {},
   "source": [
    "# Messing with multiple ms"
   ]
  },
  {
   "cell_type": "code",
   "execution_count": 97,
   "id": "b3ebe159-1be4-4523-ae5b-f0a49dff7cdc",
   "metadata": {},
   "outputs": [
    {
     "data": {
      "text/plain": [
       "np.complex128(1015440.0000000001+0j)"
      ]
     },
     "execution_count": 97,
     "metadata": {},
     "output_type": "execute_result"
    }
   ],
   "source": [
    "# This is much faster in python - we're summing over 5 * 3^5 combinations. However after the necklace considerations:\n",
    "# ./nnecklaces 5 7 -> 66\n",
    "# ./nnecklaces 3 7 -> 12\n",
    "# So we'd be going from 66 necklaces to 5 * 12 = 60 necklace combinations.\n",
    "# Might be worth - but the Jack Offset achieves the same but better\n",
    "\n",
    "n = 7\n",
    "m1 = 3\n",
    "m2 = 5\n",
    "\n",
    "roots1 = np.roots([1] + [0]*(m1-1) + [-1])\n",
    "roots2 = np.roots([1] + [0]*(m2-1) + [-1])\n",
    "\n",
    "s = np.complex128()\n",
    "\n",
    "for x in itertools.product(roots1, repeat=n-2):\n",
    "    for r2 in roots2:\n",
    "        s += f(x + (1, r2))\n",
    "    \n",
    "s / m2 / m1 ** (n-2)"
   ]
  },
  {
   "cell_type": "markdown",
   "id": "2cb22355-6850-48ab-bd02-399a270a452a",
   "metadata": {},
   "source": [
    "# Nonsense musings"
   ]
  },
  {
   "cell_type": "code",
   "execution_count": null,
   "id": "0927ec34-ee83-4644-a570-3a723b3fd4e6",
   "metadata": {},
   "outputs": [],
   "source": [
    "# Ok - let's play the K9 game\n",
    "# We're supposed to use M=5 \n",
    "# Suppose we use M=3...\n",
    "# We pick up powers of X^6\n",
    "# Let's say for now we sum the final root over m=5...\n",
    "# That means we can't have any powers of 6 in the root vertex\n",
    "# Every vertex needs to have at least one out node\n",
    "# So let's look at the in counts... Say vertex 1 has a power of -6... That means exactly 7 ins and 1 out\n",
    "# The out has to be going to the root vertex...\n",
    "# So this is actually super constrained"
   ]
  }
 ],
 "metadata": {
  "kernelspec": {
   "display_name": "Python 3 (ipykernel)",
   "language": "python",
   "name": "python3"
  },
  "language_info": {
   "codemirror_mode": {
    "name": "ipython",
    "version": 3
   },
   "file_extension": ".py",
   "mimetype": "text/x-python",
   "name": "python",
   "nbconvert_exporter": "python",
   "pygments_lexer": "ipython3",
   "version": "3.12.3"
  }
 },
 "nbformat": 4,
 "nbformat_minor": 5
}
