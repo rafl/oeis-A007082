{
 "cells": [
  {
   "cell_type": "code",
   "execution_count": 2,
   "id": "44c7ee59-5dc6-41f4-b085-224ec8e851ce",
   "metadata": {},
   "outputs": [],
   "source": [
    "import numpy as np\n",
    "import itertools\n",
    "import math"
   ]
  },
  {
   "cell_type": "code",
   "execution_count": 3,
   "id": "445f6003-36ff-429c-bcdd-0f87a384902f",
   "metadata": {},
   "outputs": [],
   "source": [
    "np.set_printoptions(linewidth=200)"
   ]
  },
  {
   "cell_type": "code",
   "execution_count": 4,
   "id": "3f9caa3e-88db-4148-bdbb-6de47e86b6a0",
   "metadata": {},
   "outputs": [],
   "source": [
    "def choose_ij(vals, i, j):\n",
    "    return vals[i] / vals[j]"
   ]
  },
  {
   "cell_type": "code",
   "execution_count": 5,
   "id": "79f8f888-8927-48bd-8879-68cbbbaac54d",
   "metadata": {},
   "outputs": [],
   "source": [
    "def choose_both(vals, i, j):\n",
    "    return choose_ij(vals, i, j) + choose_ij(vals, j, i)"
   ]
  },
  {
   "cell_type": "code",
   "execution_count": 6,
   "id": "ce1d57cb-afa7-49e0-9ef8-7cdbb9202166",
   "metadata": {},
   "outputs": [],
   "source": [
    "def f_first(vals):\n",
    "    prod = np.complex128(1)\n",
    "    for j in range(len(vals)):\n",
    "        for k in range(j+1, len(vals)):\n",
    "            prod *= choose_both(vals, j, k)\n",
    "\n",
    "    return prod"
   ]
  },
  {
   "cell_type": "code",
   "execution_count": 7,
   "id": "0f15aa2c-6d0e-4f21-abdb-203cfc883377",
   "metadata": {},
   "outputs": [],
   "source": [
    "def f_second(vals):\n",
    "    A = np.zeros([len(vals), len(vals)], dtype=np.complex128)\n",
    "    for j in range(len(vals)):\n",
    "        for k in range(len(vals)):\n",
    "            if j == k:\n",
    "                continue\n",
    "            A[j,k] = -1 * choose_ij(vals, j, k) / choose_both(vals, j, k)\n",
    "\n",
    "    for i in range(len(vals)):\n",
    "        # check if this is row or col sum\n",
    "        A[i, i] = -1 * A[i, :].sum()\n",
    "\n",
    "    return np.linalg.det(A[:-1, :-1])"
   ]
  },
  {
   "cell_type": "code",
   "execution_count": 8,
   "id": "c3aca034-ccd2-4b07-9112-99ce214de405",
   "metadata": {},
   "outputs": [],
   "source": [
    "def f(vals):\n",
    "    return f_first(vals) * f_second(vals)"
   ]
  },
  {
   "cell_type": "code",
   "execution_count": 9,
   "id": "4c03c844-5de1-4e4a-882c-d39f9123ddf9",
   "metadata": {},
   "outputs": [],
   "source": [
    "def count_cycles(n, m):\n",
    "    roots = np.roots([1] + [0]*(m-1) + [-1])\n",
    "\n",
    "    s = np.complex128()\n",
    "\n",
    "    for x in itertools.product(roots, repeat=n-1):\n",
    "        s += f(x + (np.complex128(1),))\n",
    "    \n",
    "    return s / m ** (n-1)"
   ]
  },
  {
   "cell_type": "code",
   "execution_count": 10,
   "id": "018721d1-0608-41e6-b517-2eb37d6965e4",
   "metadata": {
    "jupyter": {
     "source_hidden": true
    }
   },
   "outputs": [],
   "source": [
    "# So - our calculation has given us both the constant term - and also the terms where the exponents are all in {0, -6, 6}\n",
    "# The exponents of the x_i are calculating the \"net out degree\". So note that the only vertex that can have net out degree is the root vertex of our tree - v_n\n",
    "# Note also that the total degree of each term is zero. So therefore these terms must all be of the form x_i^6*x_n*-6 - i!= n\n",
    "# We could try and calculate this term directly (and multiply by n-1 for the n-1 choices for i at the end)\n",
    "# Wlog take i = n-1\n",
    "# We want to force our graph to have directed edges E_n-1,i and E_i,n. \n",
    "# So we can take an adjusted f_first with all these coefficients\n",
    "# Then in our matrix we could fill things as normal but put a zero if E_i,n-1 or E_n,i is in the tree, and put a 1 where E_n-1,i or E_i,n in the tree\n",
    "# This also lets us factor x_i, x_n out of our formula. Taking these two out both adds and removes 1 from each degree putting us back where we started"
   ]
  },
  {
   "cell_type": "code",
   "execution_count": 11,
   "id": "8287f45d-99c3-4f11-8bc0-5723495a2856",
   "metadata": {},
   "outputs": [],
   "source": [
    "def f_first_restricted(vals, forced_values: dict[dict[bool]]):\n",
    "    prod = np.complex128(1)\n",
    "    for j in range(len(vals)):\n",
    "        for k in range(j+1, len(vals)):\n",
    "            if j in forced_values or k in forced_values:\n",
    "                continue\n",
    "            else:\n",
    "                prod *= choose_both(vals, j, k)\n",
    "\n",
    "    for f_vals in forced_values.values():\n",
    "        for second_vertex, points_to_second in f_vals.items():\n",
    "            if points_to_second:\n",
    "                prod /= vals[second_vertex]\n",
    "            else:\n",
    "                prod *= vals[second_vertex]\n",
    "\n",
    "    return prod"
   ]
  },
  {
   "cell_type": "code",
   "execution_count": 12,
   "id": "8039a8b5-a3e8-4808-992c-31ec2f02072c",
   "metadata": {},
   "outputs": [],
   "source": [
    "def f_second_restricted(vals, forced_values: dict[dict[bool]]):\n",
    "    n = len(vals)\n",
    "    A = np.zeros([n, n], dtype=np.complex128)\n",
    "    for j in range(len(vals)):\n",
    "        for k in range(len(vals)):\n",
    "            if j == k:\n",
    "                continue\n",
    "\n",
    "            if j in forced_values or k in forced_values:\n",
    "                continue\n",
    "\n",
    "            A[j,k] = -1 * choose_ij(vals, j, k) / choose_both(vals, j, k)\n",
    "\n",
    "    for first_vertex, dirs in forced_values.items():\n",
    "        for second_vertex, points_to_second in dirs.items():\n",
    "            A[first_vertex, second_vertex] = -int(points_to_second)\n",
    "            A[second_vertex, first_vertex] = -int(not points_to_second)\n",
    "                \n",
    "    for i in range(n):\n",
    "        # check if this is row or col sum\n",
    "        A[i, i] = -1 * A[i, :].sum()\n",
    "\n",
    "    # return A\n",
    "    \n",
    "    return np.linalg.det(A[:-1, :-1])"
   ]
  },
  {
   "cell_type": "code",
   "execution_count": 13,
   "id": "e074c6a6-67aa-4068-89e8-ec3327be252f",
   "metadata": {},
   "outputs": [],
   "source": [
    "def f_restricted(vals, forced_values: dict[dict[bool]]):\n",
    "    return f_first_restricted(vals, forced_values) * f_second_restricted(vals, forced_values)"
   ]
  },
  {
   "cell_type": "code",
   "execution_count": 43,
   "id": "1c49c2ea-e9e8-4f75-ade8-faa61ab51158",
   "metadata": {},
   "outputs": [
    {
     "data": {
      "text/plain": [
       "np.complex128(43.99999999999997+0j)"
      ]
     },
     "execution_count": 43,
     "metadata": {},
     "output_type": "execute_result"
    }
   ],
   "source": [
    "n = 5 \n",
    "m = 3\n",
    "roots = np.roots([1] + [0]*(m-1) + [-1])\n",
    "\n",
    "s = np.complex128()\n",
    "\n",
    "for x in itertools.product(roots, repeat=n-2):\n",
    "    s += f_restricted((1,) + x + (np.complex128(1),), {0: {1: True, 2: True, 3: False, 4:False}})\n",
    "\n",
    "s / m ** (n-2)"
   ]
  },
  {
   "cell_type": "code",
   "execution_count": 136,
   "id": "2f5f8417-de9a-4150-be55-e1bc84133748",
   "metadata": {},
   "outputs": [
    {
     "data": {
      "text/plain": [
       "{1: False, 2: True, 3: False, 4: True}"
      ]
     },
     "execution_count": 136,
     "metadata": {},
     "output_type": "execute_result"
    }
   ],
   "source": [
    "{i: i%2 == 0 for i in range (1, n)}"
   ]
  },
  {
   "cell_type": "code",
   "execution_count": 67,
   "id": "3f935b16-4295-4f8d-a9ba-a4d100e04de8",
   "metadata": {},
   "outputs": [],
   "source": [
    "def calculate_efficient(n, m, forcings):\n",
    "    # n = 7\n",
    "    # m = 5\n",
    "    roots = np.roots([1] + [0]*(m-1) + [-1])\n",
    "    \n",
    "    # hardcodes = \n",
    "    \n",
    "    s = np.complex128()\n",
    "    \n",
    "    for x in itertools.product(roots, repeat=n-len(forcings)-1):\n",
    "        s += f_restricted((1,) + x + (np.complex128(1),), forcings)\n",
    "    \n",
    "    return s * math.comb(n-1, (n-1)//2) / m ** (n-2)"
   ]
  },
  {
   "cell_type": "code",
   "execution_count": 69,
   "id": "71cb7e6b-4019-4cd4-878c-46dfcd53f46c",
   "metadata": {},
   "outputs": [
    {
     "data": {
      "text/plain": [
       "np.complex128(1015440.0000000033-5.364418029785157e-10j)"
      ]
     },
     "execution_count": 69,
     "metadata": {},
     "output_type": "execute_result"
    }
   ],
   "source": [
    "calculate_efficient(7, 5, {0: {i: i%2 == 0 for i in range (1, 7)}})"
   ]
  },
  {
   "cell_type": "code",
   "execution_count": 70,
   "id": "3664b3f5-7c2c-40d9-888d-d295d240c269",
   "metadata": {},
   "outputs": [
    {
     "data": {
      "text/plain": [
       "np.complex128(1015439.999999994-3.883838653564453e-10j)"
      ]
     },
     "execution_count": 70,
     "metadata": {},
     "output_type": "execute_result"
    }
   ],
   "source": [
    "count_cycles(7, 5)"
   ]
  },
  {
   "cell_type": "code",
   "execution_count": 66,
   "id": "be6fb246-18a5-4412-9c3a-5e27761854ac",
   "metadata": {},
   "outputs": [
    {
     "data": {
      "text/plain": [
       "np.complex128(-2.5263741715914672e-14-5.921189464667501e-15j)"
      ]
     },
     "execution_count": 66,
     "metadata": {},
     "output_type": "execute_result"
    }
   ],
   "source": [
    "calculate_efficient(5, 3, {0: {i: i%2 == 0 for i in range (1, 5)}, 1: {0:True, 2:False, 3:True, 4:False}})"
   ]
  },
  {
   "cell_type": "code",
   "execution_count": 49,
   "id": "abfe7317-d906-4637-8187-bf9240b583b1",
   "metadata": {},
   "outputs": [
    {
     "data": {
      "text/plain": [
       "np.complex128(263.9999999999999+0j)"
      ]
     },
     "execution_count": 49,
     "metadata": {},
     "output_type": "execute_result"
    }
   ],
   "source": [
    "calculate_efficient(1, 5, 3)"
   ]
  },
  {
   "cell_type": "code",
   "execution_count": 148,
   "id": "9c9f6ef8-c70a-4802-ba11-3e77368b07cc",
   "metadata": {},
   "outputs": [
    {
     "data": {
      "text/plain": [
       "1015440"
      ]
     },
     "execution_count": 148,
     "metadata": {},
     "output_type": "execute_result"
    }
   ],
   "source": [
    "507720 * 2"
   ]
  },
  {
   "cell_type": "code",
   "execution_count": 134,
   "id": "54513f94-885e-4e23-bcba-2df7309a1c54",
   "metadata": {},
   "outputs": [
    {
     "data": {
      "text/plain": [
       "3.0"
      ]
     },
     "execution_count": 134,
     "metadata": {},
     "output_type": "execute_result"
    }
   ],
   "source": [
    "264 / 88"
   ]
  },
  {
   "cell_type": "code",
   "execution_count": null,
   "id": "0927ec34-ee83-4644-a570-3a723b3fd4e6",
   "metadata": {},
   "outputs": [],
   "source": [
    "# Ok - let's play the K9 game\n",
    "# We're supposed to use M=5 \n",
    "# Suppose we use M=3...\n",
    "# We pick up powers of X^6\n",
    "# Let's say for now we sum the final root over m=5...\n",
    "# That means we can't have any powers of 6 in the root vertex\n",
    "# Every vertex needs to have at least one out node\n",
    "# So let's look at the in counts... Say vertex 1 has a power of -6... That means exactly 7 ins and 1 out\n",
    "# The out has to be going to the root vertex...\n",
    "# So this is actually super constrained"
   ]
  },
  {
   "cell_type": "code",
   "execution_count": 50,
   "id": "413d787e-4575-455f-a599-8c3af32e0fab",
   "metadata": {},
   "outputs": [],
   "source": [
    "def jack_offset_f(vals):\n",
    "    return f_first(vals) * f_second_mod(vals)"
   ]
  },
  {
   "cell_type": "code",
   "execution_count": 54,
   "id": "b6789f80-ddae-4ba9-9d0d-79e43eecdd52",
   "metadata": {},
   "outputs": [],
   "source": [
    "def calc_jack_offset(n, m):\n",
    "    roots = np.roots([1] + [0]*(m-1) + [-1])\n",
    "    \n",
    "    s = np.complex128()\n",
    "    \n",
    "    for x in itertools.product(roots, repeat=n-3):\n",
    "        s += jack_offset_f(x + (np.complex128(1),))\n",
    "    \n",
    "    return (n-1) * s / m ** (n-3)"
   ]
  },
  {
   "cell_type": "code",
   "execution_count": 77,
   "id": "b3ebe159-1be4-4523-ae5b-f0a49dff7cdc",
   "metadata": {},
   "outputs": [
    {
     "data": {
      "text/plain": [
       "np.complex128(1015440.0000000001+0j)"
      ]
     },
     "execution_count": 77,
     "metadata": {},
     "output_type": "execute_result"
    }
   ],
   "source": [
    "n = 7\n",
    "m1 = 3\n",
    "m2 = 5\n",
    "\n",
    "roots1 = np.roots([1] + [0]*(m1-1) + [-1])\n",
    "roots2 = np.roots([1] + [0]*(m2-1) + [-1])\n",
    "\n",
    "s = np.complex128()\n",
    "\n",
    "for x in itertools.product(roots1, repeat=n-2):\n",
    "    for r2 in roots2:\n",
    "        s += f(x + (1, r2))\n",
    "    \n",
    "s / m2 / m1 ** (n-2)"
   ]
  },
  {
   "cell_type": "code",
   "execution_count": 76,
   "id": "60973d40-14f7-43de-ab5d-f407e591d53a",
   "metadata": {},
   "outputs": [
    {
     "data": {
      "text/plain": [
       "np.complex128(159770231039.9981-9.525986892242037e-07j)"
      ]
     },
     "execution_count": 76,
     "metadata": {},
     "output_type": "execute_result"
    }
   ],
   "source": [
    "n = 9\n",
    "m1 = 3\n",
    "m2 = 5\n",
    "\n",
    "roots1 = np.roots([1] + [0]*(m1-1) + [-1])\n",
    "roots2 = np.roots([1] + [0]*(m2-1) + [-1])\n",
    "\n",
    "s = np.complex128()\n",
    "\n",
    "for x in itertools.product(roots1, repeat=n-1):\n",
    "    for r2 in roots2:\n",
    "        s += f(x + (r2,))\n",
    "    \n",
    "s / m2 / m1 ** (n-1)"
   ]
  },
  {
   "cell_type": "code",
   "execution_count": 74,
   "id": "757528df-2da6-4429-a797-1017b749d113",
   "metadata": {},
   "outputs": [
    {
     "data": {
      "text/plain": [
       "3.0"
      ]
     },
     "execution_count": 74,
     "metadata": {},
     "output_type": "execute_result"
    }
   ],
   "source": [
    "#K9 estimate:\n",
    "159770231040\n",
    "\n",
    "#K9 real value:\n",
    "90449251200\n"
   ]
  },
  {
   "cell_type": "code",
   "execution_count": null,
   "id": "1b7ece2b-8dca-455c-94e0-850f53c44eaf",
   "metadata": {},
   "outputs": [],
   "source": [
    "3046320\n",
    "1015440\n"
   ]
  }
 ],
 "metadata": {
  "kernelspec": {
   "display_name": "Python 3 (ipykernel)",
   "language": "python",
   "name": "python3"
  },
  "language_info": {
   "codemirror_mode": {
    "name": "ipython",
    "version": 3
   },
   "file_extension": ".py",
   "mimetype": "text/x-python",
   "name": "python",
   "nbconvert_exporter": "python",
   "pygments_lexer": "ipython3",
   "version": "3.12.3"
  }
 },
 "nbformat": 4,
 "nbformat_minor": 5
}
